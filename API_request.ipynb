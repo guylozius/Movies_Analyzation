{
 "cells": [
  {
   "cell_type": "code",
   "execution_count": 1,
   "id": "c40f2840",
   "metadata": {},
   "outputs": [],
   "source": [
    "import pandas as pd\n",
    "import numpy as np\n",
    "import matplotlib.pyplot as plt\n",
    "import seaborn as sns\n",
    "import os, time,json\n",
    "import tmdbsimple as tmdb \n",
    "from tqdm.notebook import tqdm_notebook\n",
    "import tmdbsimple as tmdb"
   ]
  },
  {
   "cell_type": "code",
   "execution_count": 2,
   "id": "5afa9606",
   "metadata": {},
   "outputs": [],
   "source": [
    "basics_df= pd.read_csv(f\"Data/clean_basics_df.csv.gz\", low_memory = False)\n",
    "aka_df= pd.read_csv(f\"Data/clean_aka_df.csv.gz\", low_memory = False)\n",
    "rate_df= pd.read_csv(f\"Data/clean_rate_df.csv.gz\", low_memory = False)"
   ]
  },
  {
   "cell_type": "markdown",
   "id": "0334ac02",
   "metadata": {},
   "source": [
    "# Extract box office revenue and profit data From API"
   ]
  },
  {
   "cell_type": "code",
   "execution_count": 3,
   "id": "702a20f7",
   "metadata": {},
   "outputs": [],
   "source": [
    "#Getting the api login info\n",
    "with open(r'C:\\Users\\llozi\\Documents\\coding DoJo\\.secret\\tmdb_api.json') as f:\n",
    "    login = json.load(f)\n",
    "tmdb.API_KEY =  login['api-key']"
   ]
  },
  {
   "cell_type": "code",
   "execution_count": 4,
   "id": "1f353b6a",
   "metadata": {},
   "outputs": [],
   "source": [
    "def get_movie_with_rating(movie_id):\n",
    "    #Get the movies object for current id \n",
    "    movie = tmdb.Movies(movie_id)\n",
    "    # save the .info .releases dictionaries\n",
    "    info = movie.info()\n",
    "    \n",
    "    releases = movie.releases()\n",
    "    #Loop through countries in releases\n",
    "    for c in  releases['countries']:\n",
    "        if c['iso_3166_1'] == 'US':\n",
    "        # if the country == US\n",
    "        ## GET \"certification\" Key\n",
    "            info[\"certification\"]= c[\"certification\"]\n",
    "    return info"
   ]
  },
  {
   "cell_type": "markdown",
   "id": "d88a99d3",
   "metadata": {},
   "source": [
    "## Testing API"
   ]
  },
  {
   "cell_type": "markdown",
   "id": "0130b2d4",
   "metadata": {},
   "source": [
    "### Test 1"
   ]
  },
  {
   "cell_type": "code",
   "execution_count": 5,
   "id": "bbf4157f",
   "metadata": {},
   "outputs": [
    {
     "data": {
      "text/plain": [
       "{'adult': False,\n",
       " 'backdrop_path': '/9BBTo63ANSmhC4e6r62OJFuK2GL.jpg',\n",
       " 'belongs_to_collection': {'id': 86311,\n",
       "  'name': 'The Avengers Collection',\n",
       "  'poster_path': '/yFSIUVTCvgYrpalUktulvk3Gi5Y.jpg',\n",
       "  'backdrop_path': '/zuW6fOiusv4X9nnW3paHGfXcSll.jpg'},\n",
       " 'budget': 220000000,\n",
       " 'genres': [{'id': 878, 'name': 'Science Fiction'},\n",
       "  {'id': 28, 'name': 'Action'},\n",
       "  {'id': 12, 'name': 'Adventure'}],\n",
       " 'homepage': 'https://www.marvel.com/movies/the-avengers',\n",
       " 'id': 24428,\n",
       " 'imdb_id': 'tt0848228',\n",
       " 'original_language': 'en',\n",
       " 'original_title': 'The Avengers',\n",
       " 'overview': 'When an unexpected enemy emerges and threatens global safety and security, Nick Fury, director of the international peacekeeping agency known as S.H.I.E.L.D., finds himself in need of a team to pull the world back from the brink of disaster. Spanning the globe, a daring recruitment effort begins!',\n",
       " 'popularity': 222.0,\n",
       " 'poster_path': '/RYMX2wcKCBAr24UyPD7xwmjaTn.jpg',\n",
       " 'production_companies': [{'id': 420,\n",
       "   'logo_path': '/hUzeosd33nzE5MCNsZxCGEKTXaQ.png',\n",
       "   'name': 'Marvel Studios',\n",
       "   'origin_country': 'US'}],\n",
       " 'production_countries': [{'iso_3166_1': 'US',\n",
       "   'name': 'United States of America'}],\n",
       " 'release_date': '2012-04-25',\n",
       " 'revenue': 1518815515,\n",
       " 'runtime': 143,\n",
       " 'spoken_languages': [{'english_name': 'English',\n",
       "   'iso_639_1': 'en',\n",
       "   'name': 'English'},\n",
       "  {'english_name': 'Hindi', 'iso_639_1': 'hi', 'name': 'हिन्दी'},\n",
       "  {'english_name': 'Russian', 'iso_639_1': 'ru', 'name': 'Pусский'}],\n",
       " 'status': 'Released',\n",
       " 'tagline': 'Some assembly required.',\n",
       " 'title': 'The Avengers',\n",
       " 'video': False,\n",
       " 'vote_average': 7.707,\n",
       " 'vote_count': 27761,\n",
       " 'certification': 'PG-13'}"
      ]
     },
     "execution_count": 5,
     "metadata": {},
     "output_type": "execute_result"
    }
   ],
   "source": [
    "info = get_movie_with_rating(\"tt0848228\")\n",
    "info"
   ]
  },
  {
   "cell_type": "markdown",
   "id": "f6e63ef4",
   "metadata": {},
   "source": [
    "### Test 2"
   ]
  },
  {
   "cell_type": "code",
   "execution_count": 6,
   "id": "7544f529",
   "metadata": {},
   "outputs": [
    {
     "data": {
      "text/plain": [
       "{'adult': False,\n",
       " 'backdrop_path': '/qom1SZSENdmHFNZBXbtJAU0WTlC.jpg',\n",
       " 'belongs_to_collection': None,\n",
       " 'budget': 29000000,\n",
       " 'genres': [{'id': 10749, 'name': 'Romance'}, {'id': 18, 'name': 'Drama'}],\n",
       " 'homepage': 'http://www.newline.com/properties/notebookthe.html',\n",
       " 'id': 11036,\n",
       " 'imdb_id': 'tt0332280',\n",
       " 'original_language': 'en',\n",
       " 'original_title': 'The Notebook',\n",
       " 'overview': \"An epic love story centered around an older man who reads aloud to a woman with Alzheimer's. From a faded notebook, the old man's words bring to life the story about a couple who is separated by World War II, and is then passionately reunited, seven years later, after they have taken different paths.\",\n",
       " 'popularity': 87.703,\n",
       " 'poster_path': '/rNzQyW4f8B8cQeg7Dgj3n6eT5k9.jpg',\n",
       " 'production_companies': [{'id': 12,\n",
       "   'logo_path': '/iaYpEp3LQmb8AfAtmTvpqd4149c.png',\n",
       "   'name': 'New Line Cinema',\n",
       "   'origin_country': 'US'},\n",
       "  {'id': 1565, 'logo_path': None, 'name': 'Avery Pix', 'origin_country': 'US'},\n",
       "  {'id': 2605,\n",
       "   'logo_path': None,\n",
       "   'name': 'Gran Via Productions',\n",
       "   'origin_country': 'US'}],\n",
       " 'production_countries': [{'iso_3166_1': 'US',\n",
       "   'name': 'United States of America'}],\n",
       " 'release_date': '2004-06-25',\n",
       " 'revenue': 115603229,\n",
       " 'runtime': 123,\n",
       " 'spoken_languages': [{'english_name': 'English',\n",
       "   'iso_639_1': 'en',\n",
       "   'name': 'English'}],\n",
       " 'status': 'Released',\n",
       " 'tagline': 'Behind every great love is a great story.',\n",
       " 'title': 'The Notebook',\n",
       " 'video': False,\n",
       " 'vote_average': 7.878,\n",
       " 'vote_count': 9919,\n",
       " 'certification': 'PG-13'}"
      ]
     },
     "execution_count": 6,
     "metadata": {},
     "output_type": "execute_result"
    }
   ],
   "source": [
    "info = get_movie_with_rating(\"tt0332280\")\n",
    "info"
   ]
  },
  {
   "cell_type": "markdown",
   "id": "deacf7f2",
   "metadata": {},
   "source": [
    "## Designate a folder to save your information"
   ]
  },
  {
   "cell_type": "code",
   "execution_count": 7,
   "id": "2555a1c0",
   "metadata": {},
   "outputs": [],
   "source": [
    "def write_json(new_data, filename): \n",
    "    \"\"\"Appends a list of records (new_data) to a json file (filename). \n",
    "    Adapted from: https://www.geeksforgeeks.org/append-to-json-file-using-python/\"\"\"  \n",
    "    \n",
    "    with open(filename,'r+') as file:\n",
    "        # First we load existing data into a dict.\n",
    "        file_data = json.load(file)\n",
    "        ## Choose extend or append\n",
    "        if (type(new_data) == list) & (type(file_data) == list):\n",
    "            file_data.extend(new_data)\n",
    "        else:\n",
    "             file_data.append(new_data)\n",
    "        # Sets file's current position at offset.\n",
    "        file.seek(0)\n",
    "        # convert back to json.\n",
    "        json.dump(file_data, file)"
   ]
  },
  {
   "cell_type": "markdown",
   "id": "c6d59bc9",
   "metadata": {},
   "source": [
    "## Define the years you wish to retrieve"
   ]
  },
  {
   "cell_type": "code",
   "execution_count": 8,
   "id": "d056769b",
   "metadata": {},
   "outputs": [],
   "source": [
    "YEARS_TO_GET = [2000,2001]"
   ]
  },
  {
   "cell_type": "markdown",
   "id": "9b1e12c8",
   "metadata": {},
   "source": [
    "### Define an errors list"
   ]
  },
  {
   "cell_type": "code",
   "execution_count": 9,
   "id": "98181854",
   "metadata": {},
   "outputs": [],
   "source": [
    "errors = []"
   ]
  },
  {
   "cell_type": "markdown",
   "id": "4b92fb91",
   "metadata": {},
   "source": [
    "## save the results from the API request."
   ]
  },
  {
   "cell_type": "code",
   "execution_count": 10,
   "id": "525b200d",
   "metadata": {},
   "outputs": [
    {
     "data": {
      "application/vnd.jupyter.widget-view+json": {
       "model_id": "7a7f06930c7f4795baccd7eceb90a20d",
       "version_major": 2,
       "version_minor": 0
      },
      "text/plain": [
       "YEARS:   0%|          | 0/2 [00:00<?, ?it/s]"
      ]
     },
     "metadata": {},
     "output_type": "display_data"
    },
    {
     "data": {
      "application/vnd.jupyter.widget-view+json": {
       "model_id": "950abe7212bc4206b92d47c48490e180",
       "version_major": 2,
       "version_minor": 0
      },
      "text/plain": [
       "Movies from 2000:   0%|          | 0/205 [00:00<?, ?it/s]"
      ]
     },
     "metadata": {},
     "output_type": "display_data"
    },
    {
     "data": {
      "application/vnd.jupyter.widget-view+json": {
       "model_id": "a4da5b365f0d4ce5b5d884f28a6772a2",
       "version_major": 2,
       "version_minor": 0
      },
      "text/plain": [
       "Movies from 2001:   0%|          | 0/241 [00:00<?, ?it/s]"
      ]
     },
     "metadata": {},
     "output_type": "display_data"
    }
   ],
   "source": [
    "for YEAR in tqdm_notebook(YEARS_TO_GET, desc='YEARS', position=0):\n",
    "    #Defining the JSON file to store results for year\n",
    "    JSON_FILE = f'Data/tmdb_api_results_{YEAR}.json'\n",
    "    \n",
    "    # Check if file exists\n",
    "    file_exists = os.path.isfile(JSON_FILE)\n",
    "    \n",
    "    # If it does not exist: create it\n",
    "    if file_exists == False:\n",
    "    # save an empty dict with just \"imdb_id\" to the new json file.\n",
    "        with open(JSON_FILE,'w') as f:\n",
    "            json.dump([{'imdb_id':0}],f)\n",
    "            \n",
    "    #Saving new year as the current df\n",
    "    df = basics_df.loc[ basics_df['startYear']==YEAR].copy()\n",
    "    # saving movie ids to list\n",
    "    movie_ids = df['tconst'].copy()\n",
    "    \n",
    "    # Load existing data from json into a dataframe called \"previous_df\"\n",
    "    previous_df = pd.read_json(JSON_FILE)\n",
    "    # filter out any ids that are already in the JSON_FILE\n",
    "    movie_ids_to_get = movie_ids[~movie_ids.isin(previous_df['imdb_id'])]\n",
    "    #Get index and movie id from list\n",
    "    # INNER Loop\n",
    "    for movie_id in tqdm_notebook(movie_ids_to_get,\n",
    "                                  desc=f'Movies from {YEAR}',\n",
    "                                  position=1,\n",
    "                                  leave=True):\n",
    "        try:\n",
    "            # Retrieve then data for the movie id\n",
    "            temp = get_movie_with_rating(movie_id)  \n",
    "            # Append/extend results to existing file using a pre-made function\n",
    "            write_json(temp,JSON_FILE)\n",
    "            # Short 20 ms sleep to prevent overwhelming server\n",
    "            time.sleep(0.02)\n",
    "\n",
    "        except Exception as e:\n",
    "            errors.append([movie_id, e])\n",
    "        final_year_df = pd.read_json(JSON_FILE)\n",
    "        final_year_df.to_csv(f\"Data/final_tmdb_data_{YEAR}.csv.gz\", compression=\"gzip\", index=False)"
   ]
  }
 ],
 "metadata": {
  "kernelspec": {
   "display_name": "Python (dojo-env)",
   "language": "python",
   "name": "dojo-env"
  },
  "language_info": {
   "codemirror_mode": {
    "name": "ipython",
    "version": 3
   },
   "file_extension": ".py",
   "mimetype": "text/x-python",
   "name": "python",
   "nbconvert_exporter": "python",
   "pygments_lexer": "ipython3",
   "version": "3.8.13"
  },
  "toc": {
   "base_numbering": 1,
   "nav_menu": {},
   "number_sections": false,
   "sideBar": true,
   "skip_h1_title": false,
   "title_cell": "Table of Contents",
   "title_sidebar": "Contents",
   "toc_cell": false,
   "toc_position": {
    "height": "calc(100% - 180px)",
    "left": "10px",
    "top": "150px",
    "width": "303.837px"
   },
   "toc_section_display": true,
   "toc_window_display": false
  }
 },
 "nbformat": 4,
 "nbformat_minor": 5
}
