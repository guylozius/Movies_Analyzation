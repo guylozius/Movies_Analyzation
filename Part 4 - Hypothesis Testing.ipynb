{
 "cells": [
  {
   "cell_type": "code",
   "execution_count": 1,
   "id": "1e5cf756",
   "metadata": {},
   "outputs": [],
   "source": [
    "import datetime as dt\n",
    "import pandas as pd\n",
    "import numpy as np\n",
    "import matplotlib.pyplot as plt\n",
    "from matplotlib.ticker import FuncFormatter\n",
    "import seaborn as sns\n",
    "import scipy.stats as stats\n",
    "from statsmodels.stats.multicomp import pairwise_tukeyhsd"
   ]
  },
  {
   "cell_type": "code",
   "execution_count": 2,
   "id": "6aa06938",
   "metadata": {},
   "outputs": [],
   "source": [
    "pd.set_option('display.max_colum', 500)"
   ]
  },
  {
   "cell_type": "code",
   "execution_count": 3,
   "id": "d86f3aa9",
   "metadata": {},
   "outputs": [
    {
     "data": {
      "text/html": [
       "<div>\n",
       "<style scoped>\n",
       "    .dataframe tbody tr th:only-of-type {\n",
       "        vertical-align: middle;\n",
       "    }\n",
       "\n",
       "    .dataframe tbody tr th {\n",
       "        vertical-align: top;\n",
       "    }\n",
       "\n",
       "    .dataframe thead th {\n",
       "        text-align: right;\n",
       "    }\n",
       "</style>\n",
       "<table border=\"1\" class=\"dataframe\">\n",
       "  <thead>\n",
       "    <tr style=\"text-align: right;\">\n",
       "      <th></th>\n",
       "      <th>imdb_id</th>\n",
       "      <th>adult</th>\n",
       "      <th>backdrop_path</th>\n",
       "      <th>belongs_to_collection</th>\n",
       "      <th>budget</th>\n",
       "      <th>genres</th>\n",
       "      <th>homepage</th>\n",
       "      <th>id</th>\n",
       "      <th>original_language</th>\n",
       "      <th>original_title</th>\n",
       "      <th>overview</th>\n",
       "      <th>popularity</th>\n",
       "      <th>poster_path</th>\n",
       "      <th>production_companies</th>\n",
       "      <th>production_countries</th>\n",
       "      <th>release_date</th>\n",
       "      <th>revenue</th>\n",
       "      <th>runtime</th>\n",
       "      <th>spoken_languages</th>\n",
       "      <th>status</th>\n",
       "      <th>tagline</th>\n",
       "      <th>title</th>\n",
       "      <th>video</th>\n",
       "      <th>vote_average</th>\n",
       "      <th>vote_count</th>\n",
       "      <th>certification</th>\n",
       "    </tr>\n",
       "  </thead>\n",
       "  <tbody>\n",
       "    <tr>\n",
       "      <th>0</th>\n",
       "      <td>tt0308353</td>\n",
       "      <td>0.0</td>\n",
       "      <td>/tuu79CwctvIo4RUg7E3FGkGIg4I.jpg</td>\n",
       "      <td>{'id': 141084, 'name': \"Happily N'Ever After C...</td>\n",
       "      <td>47000000.0</td>\n",
       "      <td>[{'id': 12, 'name': 'Adventure'}, {'id': 16, '...</td>\n",
       "      <td>http://www.happilyneverafterthefilm.com/</td>\n",
       "      <td>5393.0</td>\n",
       "      <td>en</td>\n",
       "      <td>Happily N'Ever After</td>\n",
       "      <td>An alliance of evil-doers, led by Frieda, look...</td>\n",
       "      <td>11.840</td>\n",
       "      <td>/MjfHDN5WrV6RBVhCvfdlPpt7gH.jpg</td>\n",
       "      <td>[{'id': 1718, 'logo_path': None, 'name': 'Odys...</td>\n",
       "      <td>[{'iso_3166_1': 'CA', 'name': 'Canada'}, {'iso...</td>\n",
       "      <td>2007-01-05</td>\n",
       "      <td>38085778.0</td>\n",
       "      <td>87.0</td>\n",
       "      <td>[{'english_name': 'English', 'iso_639_1': 'en'...</td>\n",
       "      <td>Released</td>\n",
       "      <td>Fairy Tale Endings Aren't What They Used To Be.</td>\n",
       "      <td>Happily N'Ever After</td>\n",
       "      <td>0.0</td>\n",
       "      <td>4.9</td>\n",
       "      <td>357.0</td>\n",
       "      <td>PG</td>\n",
       "    </tr>\n",
       "    <tr>\n",
       "      <th>1</th>\n",
       "      <td>tt0317219</td>\n",
       "      <td>0.0</td>\n",
       "      <td>/sd4xN5xi8tKRPrJOWwNiZEile7f.jpg</td>\n",
       "      <td>{'id': 87118, 'name': 'Cars Collection', 'post...</td>\n",
       "      <td>120000000.0</td>\n",
       "      <td>[{'id': 16, 'name': 'Animation'}, {'id': 12, '...</td>\n",
       "      <td>http://disney.go.com/disneyvideos/animatedfilm...</td>\n",
       "      <td>920.0</td>\n",
       "      <td>en</td>\n",
       "      <td>Cars</td>\n",
       "      <td>Lightning McQueen, a hotshot rookie race car d...</td>\n",
       "      <td>77.326</td>\n",
       "      <td>/qa6HCwP4Z15l3hpsASz3auugEW6.jpg</td>\n",
       "      <td>[{'id': 3, 'logo_path': '/1TjvGVDMYsj6JBxOAkUH...</td>\n",
       "      <td>[{'iso_3166_1': 'US', 'name': 'United States o...</td>\n",
       "      <td>2006-06-08</td>\n",
       "      <td>461983149.0</td>\n",
       "      <td>117.0</td>\n",
       "      <td>[{'english_name': 'English', 'iso_639_1': 'en'...</td>\n",
       "      <td>Released</td>\n",
       "      <td>Ahhh... it's got that new movie smell.</td>\n",
       "      <td>Cars</td>\n",
       "      <td>0.0</td>\n",
       "      <td>6.9</td>\n",
       "      <td>11579.0</td>\n",
       "      <td>G</td>\n",
       "    </tr>\n",
       "    <tr>\n",
       "      <th>2</th>\n",
       "      <td>tt0348150</td>\n",
       "      <td>0.0</td>\n",
       "      <td>/8eRscFbRYl681zDfkjv1jjW1KAA.jpg</td>\n",
       "      <td>{'id': 8537, 'name': 'Superman Collection', 'p...</td>\n",
       "      <td>270000000.0</td>\n",
       "      <td>[{'id': 878, 'name': 'Science Fiction'}, {'id'...</td>\n",
       "      <td>https://www.warnerbros.com/movies/superman-ret...</td>\n",
       "      <td>1452.0</td>\n",
       "      <td>en</td>\n",
       "      <td>Superman Returns</td>\n",
       "      <td>Superman returns to discover his 5-year absenc...</td>\n",
       "      <td>30.861</td>\n",
       "      <td>/385XwTQZDpRX2d3kxtnpiLrjBXw.jpg</td>\n",
       "      <td>[{'id': 429, 'logo_path': '/2Tc1P3Ac8M479naPp1...</td>\n",
       "      <td>[{'iso_3166_1': 'US', 'name': 'United States o...</td>\n",
       "      <td>2006-06-28</td>\n",
       "      <td>391081192.0</td>\n",
       "      <td>154.0</td>\n",
       "      <td>[{'english_name': 'German', 'iso_639_1': 'de',...</td>\n",
       "      <td>Released</td>\n",
       "      <td>You’ll Believe A Man Can Fly Again!</td>\n",
       "      <td>Superman Returns</td>\n",
       "      <td>0.0</td>\n",
       "      <td>5.7</td>\n",
       "      <td>3444.0</td>\n",
       "      <td>PG-13</td>\n",
       "    </tr>\n",
       "    <tr>\n",
       "      <th>3</th>\n",
       "      <td>tt0366548</td>\n",
       "      <td>0.0</td>\n",
       "      <td>/9DUAR7p4SGqt2ISH2lmSzNx3uni.jpg</td>\n",
       "      <td>{'id': 92012, 'name': 'Happy Feet Collection',...</td>\n",
       "      <td>100000000.0</td>\n",
       "      <td>[{'id': 16, 'name': 'Animation'}, {'id': 35, '...</td>\n",
       "      <td>http://www.warnerbros.com/happy-feet</td>\n",
       "      <td>9836.0</td>\n",
       "      <td>en</td>\n",
       "      <td>Happy Feet</td>\n",
       "      <td>Into the world of the Emperor Penguins, who fi...</td>\n",
       "      <td>76.506</td>\n",
       "      <td>/zP4CK9O70P8GDilfTkPm4lrmaks.jpg</td>\n",
       "      <td>[{'id': 2537, 'logo_path': None, 'name': 'Kenn...</td>\n",
       "      <td>[{'iso_3166_1': 'AU', 'name': 'Australia'}]</td>\n",
       "      <td>2006-11-16</td>\n",
       "      <td>384335608.0</td>\n",
       "      <td>108.0</td>\n",
       "      <td>[{'english_name': 'English', 'iso_639_1': 'en'...</td>\n",
       "      <td>Released</td>\n",
       "      <td>WARNING: May Cause Toe-Tapping.</td>\n",
       "      <td>Happy Feet</td>\n",
       "      <td>0.0</td>\n",
       "      <td>6.1</td>\n",
       "      <td>4218.0</td>\n",
       "      <td>PG</td>\n",
       "    </tr>\n",
       "    <tr>\n",
       "      <th>4</th>\n",
       "      <td>tt0382625</td>\n",
       "      <td>0.0</td>\n",
       "      <td>/4NsQl44oXVMiuIM9t7ZsVgYzOkv.jpg</td>\n",
       "      <td>{'id': 115776, 'name': 'The Robert Langdon Col...</td>\n",
       "      <td>125000000.0</td>\n",
       "      <td>[{'id': 53, 'name': 'Thriller'}, {'id': 9648, ...</td>\n",
       "      <td>http://www.sonypictures.com/movies/thedavincic...</td>\n",
       "      <td>591.0</td>\n",
       "      <td>en</td>\n",
       "      <td>The Da Vinci Code</td>\n",
       "      <td>A murder in Paris’ Louvre Museum and cryptic c...</td>\n",
       "      <td>31.523</td>\n",
       "      <td>/j9lsWwnIDN2ZNtqZcE1x2o4ZKyI.jpg</td>\n",
       "      <td>[{'id': 23, 'logo_path': '/mkxNjThahj5pvntvYKV...</td>\n",
       "      <td>[{'iso_3166_1': 'US', 'name': 'United States o...</td>\n",
       "      <td>2006-05-17</td>\n",
       "      <td>767820459.0</td>\n",
       "      <td>149.0</td>\n",
       "      <td>[{'english_name': 'English', 'iso_639_1': 'en'...</td>\n",
       "      <td>Released</td>\n",
       "      <td>Seek the truth</td>\n",
       "      <td>The Da Vinci Code</td>\n",
       "      <td>0.0</td>\n",
       "      <td>6.7</td>\n",
       "      <td>7825.0</td>\n",
       "      <td>PG-13</td>\n",
       "    </tr>\n",
       "  </tbody>\n",
       "</table>\n",
       "</div>"
      ],
      "text/plain": [
       "     imdb_id  adult                     backdrop_path  \\\n",
       "0  tt0308353    0.0  /tuu79CwctvIo4RUg7E3FGkGIg4I.jpg   \n",
       "1  tt0317219    0.0  /sd4xN5xi8tKRPrJOWwNiZEile7f.jpg   \n",
       "2  tt0348150    0.0  /8eRscFbRYl681zDfkjv1jjW1KAA.jpg   \n",
       "3  tt0366548    0.0  /9DUAR7p4SGqt2ISH2lmSzNx3uni.jpg   \n",
       "4  tt0382625    0.0  /4NsQl44oXVMiuIM9t7ZsVgYzOkv.jpg   \n",
       "\n",
       "                               belongs_to_collection       budget  \\\n",
       "0  {'id': 141084, 'name': \"Happily N'Ever After C...   47000000.0   \n",
       "1  {'id': 87118, 'name': 'Cars Collection', 'post...  120000000.0   \n",
       "2  {'id': 8537, 'name': 'Superman Collection', 'p...  270000000.0   \n",
       "3  {'id': 92012, 'name': 'Happy Feet Collection',...  100000000.0   \n",
       "4  {'id': 115776, 'name': 'The Robert Langdon Col...  125000000.0   \n",
       "\n",
       "                                              genres  \\\n",
       "0  [{'id': 12, 'name': 'Adventure'}, {'id': 16, '...   \n",
       "1  [{'id': 16, 'name': 'Animation'}, {'id': 12, '...   \n",
       "2  [{'id': 878, 'name': 'Science Fiction'}, {'id'...   \n",
       "3  [{'id': 16, 'name': 'Animation'}, {'id': 35, '...   \n",
       "4  [{'id': 53, 'name': 'Thriller'}, {'id': 9648, ...   \n",
       "\n",
       "                                            homepage      id  \\\n",
       "0           http://www.happilyneverafterthefilm.com/  5393.0   \n",
       "1  http://disney.go.com/disneyvideos/animatedfilm...   920.0   \n",
       "2  https://www.warnerbros.com/movies/superman-ret...  1452.0   \n",
       "3               http://www.warnerbros.com/happy-feet  9836.0   \n",
       "4  http://www.sonypictures.com/movies/thedavincic...   591.0   \n",
       "\n",
       "  original_language        original_title  \\\n",
       "0                en  Happily N'Ever After   \n",
       "1                en                  Cars   \n",
       "2                en      Superman Returns   \n",
       "3                en            Happy Feet   \n",
       "4                en     The Da Vinci Code   \n",
       "\n",
       "                                            overview  popularity  \\\n",
       "0  An alliance of evil-doers, led by Frieda, look...      11.840   \n",
       "1  Lightning McQueen, a hotshot rookie race car d...      77.326   \n",
       "2  Superman returns to discover his 5-year absenc...      30.861   \n",
       "3  Into the world of the Emperor Penguins, who fi...      76.506   \n",
       "4  A murder in Paris’ Louvre Museum and cryptic c...      31.523   \n",
       "\n",
       "                        poster_path  \\\n",
       "0   /MjfHDN5WrV6RBVhCvfdlPpt7gH.jpg   \n",
       "1  /qa6HCwP4Z15l3hpsASz3auugEW6.jpg   \n",
       "2  /385XwTQZDpRX2d3kxtnpiLrjBXw.jpg   \n",
       "3  /zP4CK9O70P8GDilfTkPm4lrmaks.jpg   \n",
       "4  /j9lsWwnIDN2ZNtqZcE1x2o4ZKyI.jpg   \n",
       "\n",
       "                                production_companies  \\\n",
       "0  [{'id': 1718, 'logo_path': None, 'name': 'Odys...   \n",
       "1  [{'id': 3, 'logo_path': '/1TjvGVDMYsj6JBxOAkUH...   \n",
       "2  [{'id': 429, 'logo_path': '/2Tc1P3Ac8M479naPp1...   \n",
       "3  [{'id': 2537, 'logo_path': None, 'name': 'Kenn...   \n",
       "4  [{'id': 23, 'logo_path': '/mkxNjThahj5pvntvYKV...   \n",
       "\n",
       "                                production_countries release_date  \\\n",
       "0  [{'iso_3166_1': 'CA', 'name': 'Canada'}, {'iso...   2007-01-05   \n",
       "1  [{'iso_3166_1': 'US', 'name': 'United States o...   2006-06-08   \n",
       "2  [{'iso_3166_1': 'US', 'name': 'United States o...   2006-06-28   \n",
       "3        [{'iso_3166_1': 'AU', 'name': 'Australia'}]   2006-11-16   \n",
       "4  [{'iso_3166_1': 'US', 'name': 'United States o...   2006-05-17   \n",
       "\n",
       "       revenue  runtime                                   spoken_languages  \\\n",
       "0   38085778.0     87.0  [{'english_name': 'English', 'iso_639_1': 'en'...   \n",
       "1  461983149.0    117.0  [{'english_name': 'English', 'iso_639_1': 'en'...   \n",
       "2  391081192.0    154.0  [{'english_name': 'German', 'iso_639_1': 'de',...   \n",
       "3  384335608.0    108.0  [{'english_name': 'English', 'iso_639_1': 'en'...   \n",
       "4  767820459.0    149.0  [{'english_name': 'English', 'iso_639_1': 'en'...   \n",
       "\n",
       "     status                                          tagline  \\\n",
       "0  Released  Fairy Tale Endings Aren't What They Used To Be.   \n",
       "1  Released           Ahhh... it's got that new movie smell.   \n",
       "2  Released              You’ll Believe A Man Can Fly Again!   \n",
       "3  Released                  WARNING: May Cause Toe-Tapping.   \n",
       "4  Released                                   Seek the truth   \n",
       "\n",
       "                  title  video  vote_average  vote_count certification  \n",
       "0  Happily N'Ever After    0.0           4.9       357.0            PG  \n",
       "1                  Cars    0.0           6.9     11579.0             G  \n",
       "2      Superman Returns    0.0           5.7      3444.0         PG-13  \n",
       "3            Happy Feet    0.0           6.1      4218.0            PG  \n",
       "4     The Da Vinci Code    0.0           6.7      7825.0         PG-13  "
      ]
     },
     "execution_count": 3,
     "metadata": {},
     "output_type": "execute_result"
    }
   ],
   "source": [
    "df = pd.read_csv('Data/clean_combined_tmdb_data.csv',compression=\"gzip\", low_memory = False)\n",
    "df.head()"
   ]
  },
  {
   "cell_type": "markdown",
   "id": "02a56fd8",
   "metadata": {},
   "source": [
    "# First question:\n",
    "- does the MPAA rating of a movie (G/PG/PG-13/R) affect how much revenue the movie generates?"
   ]
  },
  {
   "cell_type": "markdown",
   "id": "c29c2485",
   "metadata": {},
   "source": [
    "Null Hypothesis: There is a not significant difference in revenue between MPAA rating groups. \n",
    "    \n",
    "Alternative  Hypothesis: There is a significant difference in revenue between MPAA rating groups. \n"
   ]
  },
  {
   "cell_type": "markdown",
   "id": "205a796b",
   "metadata": {},
   "source": [
    "## Separating Our Groups"
   ]
  },
  {
   "cell_type": "code",
   "execution_count": 4,
   "id": "04c9320d",
   "metadata": {},
   "outputs": [
    {
     "data": {
      "text/plain": [
       "dict_keys(['G', 'PG', 'PG-13', 'R'])"
      ]
     },
     "execution_count": 4,
     "metadata": {},
     "output_type": "execute_result"
    }
   ],
   "source": [
    "## Create groups dictionary. \n",
    "groups = {}\n",
    "## Loop through all unique categories\n",
    "for i in ['G','PG','PG-13','R']:\n",
    "    ## Get series for group and rename\n",
    "    data = df.loc[df['certification']==i,'revenue'].copy()\n",
    "    \n",
    "    # save into the dictionary\n",
    "    groups[i] = data\n",
    "groups.keys()"
   ]
  },
  {
   "cell_type": "code",
   "execution_count": 5,
   "id": "a337dcb1",
   "metadata": {},
   "outputs": [],
   "source": [
    "#Making dataframe with certification G|PG|PG-13|R\n",
    "rate_df  =  df.loc[df['certification'].str.contains('G|PG|PG-13|R'),:]"
   ]
  },
  {
   "cell_type": "markdown",
   "id": "8d586d98",
   "metadata": {},
   "source": [
    "## ASSUMPTIONS"
   ]
  },
  {
   "cell_type": "markdown",
   "id": "a2986cd4",
   "metadata": {},
   "source": [
    "### Assumption of Normality"
   ]
  },
  {
   "cell_type": "code",
   "execution_count": 6,
   "id": "c277b852",
   "metadata": {
    "scrolled": true
   },
   "outputs": [
    {
     "data": {
      "text/html": [
       "<div>\n",
       "<style scoped>\n",
       "    .dataframe tbody tr th:only-of-type {\n",
       "        vertical-align: middle;\n",
       "    }\n",
       "\n",
       "    .dataframe tbody tr th {\n",
       "        vertical-align: top;\n",
       "    }\n",
       "\n",
       "    .dataframe thead th {\n",
       "        text-align: right;\n",
       "    }\n",
       "</style>\n",
       "<table border=\"1\" class=\"dataframe\">\n",
       "  <thead>\n",
       "    <tr style=\"text-align: right;\">\n",
       "      <th></th>\n",
       "      <th>n</th>\n",
       "      <th>p</th>\n",
       "      <th>test stat</th>\n",
       "    </tr>\n",
       "  </thead>\n",
       "  <tbody>\n",
       "    <tr>\n",
       "      <th>G</th>\n",
       "      <td>35.0</td>\n",
       "      <td>2.170154e-05</td>\n",
       "      <td>21.476255</td>\n",
       "    </tr>\n",
       "    <tr>\n",
       "      <th>PG</th>\n",
       "      <td>135.0</td>\n",
       "      <td>6.752330e-08</td>\n",
       "      <td>33.021586</td>\n",
       "    </tr>\n",
       "    <tr>\n",
       "      <th>PG-13</th>\n",
       "      <td>236.0</td>\n",
       "      <td>6.338248e-23</td>\n",
       "      <td>102.225709</td>\n",
       "    </tr>\n",
       "    <tr>\n",
       "      <th>R</th>\n",
       "      <td>223.0</td>\n",
       "      <td>4.794325e-22</td>\n",
       "      <td>98.178878</td>\n",
       "    </tr>\n",
       "  </tbody>\n",
       "</table>\n",
       "</div>"
      ],
      "text/plain": [
       "           n             p   test stat\n",
       "G       35.0  2.170154e-05   21.476255\n",
       "PG     135.0  6.752330e-08   33.021586\n",
       "PG-13  236.0  6.338248e-23  102.225709\n",
       "R      223.0  4.794325e-22   98.178878"
      ]
     },
     "execution_count": 6,
     "metadata": {},
     "output_type": "execute_result"
    }
   ],
   "source": [
    "## Running normal test on each group and confirming there are >20 in each group\n",
    "norm_results = {}\n",
    "for i, data in groups.items():\n",
    "    stat, p = stats.normaltest(data)\n",
    "    ## save the p val, test statistic, and the size of the group\n",
    "    norm_results[i] = {'n': len(data),\n",
    "                             'p':p,\n",
    "                             'test stat':stat,}\n",
    "## convert to a dataframe\n",
    "norm_results_df = pd.DataFrame(norm_results).T\n",
    "norm_results_df"
   ]
  },
  {
   "cell_type": "code",
   "execution_count": 7,
   "id": "9291d701",
   "metadata": {},
   "outputs": [
    {
     "data": {
      "text/html": [
       "<div>\n",
       "<style scoped>\n",
       "    .dataframe tbody tr th:only-of-type {\n",
       "        vertical-align: middle;\n",
       "    }\n",
       "\n",
       "    .dataframe tbody tr th {\n",
       "        vertical-align: top;\n",
       "    }\n",
       "\n",
       "    .dataframe thead th {\n",
       "        text-align: right;\n",
       "    }\n",
       "</style>\n",
       "<table border=\"1\" class=\"dataframe\">\n",
       "  <thead>\n",
       "    <tr style=\"text-align: right;\">\n",
       "      <th></th>\n",
       "      <th>n</th>\n",
       "      <th>p</th>\n",
       "      <th>test stat</th>\n",
       "      <th>sig</th>\n",
       "    </tr>\n",
       "  </thead>\n",
       "  <tbody>\n",
       "    <tr>\n",
       "      <th>G</th>\n",
       "      <td>35.0</td>\n",
       "      <td>2.170154e-05</td>\n",
       "      <td>21.476255</td>\n",
       "      <td>True</td>\n",
       "    </tr>\n",
       "    <tr>\n",
       "      <th>PG</th>\n",
       "      <td>135.0</td>\n",
       "      <td>6.752330e-08</td>\n",
       "      <td>33.021586</td>\n",
       "      <td>True</td>\n",
       "    </tr>\n",
       "    <tr>\n",
       "      <th>PG-13</th>\n",
       "      <td>236.0</td>\n",
       "      <td>6.338248e-23</td>\n",
       "      <td>102.225709</td>\n",
       "      <td>True</td>\n",
       "    </tr>\n",
       "    <tr>\n",
       "      <th>R</th>\n",
       "      <td>223.0</td>\n",
       "      <td>4.794325e-22</td>\n",
       "      <td>98.178878</td>\n",
       "      <td>True</td>\n",
       "    </tr>\n",
       "  </tbody>\n",
       "</table>\n",
       "</div>"
      ],
      "text/plain": [
       "           n             p   test stat   sig\n",
       "G       35.0  2.170154e-05   21.476255  True\n",
       "PG     135.0  6.752330e-08   33.021586  True\n",
       "PG-13  236.0  6.338248e-23  102.225709  True\n",
       "R      223.0  4.794325e-22   98.178878  True"
      ]
     },
     "execution_count": 7,
     "metadata": {},
     "output_type": "execute_result"
    }
   ],
   "source": [
    "### checking sig with pandas \n",
    "norm_results_df['sig'] = norm_results_df['p'] < .05 \n",
    "norm_results_df"
   ]
  },
  {
   "cell_type": "markdown",
   "id": "461038e9",
   "metadata": {},
   "source": [
    "> We confirm that no group has a normal distribution. However each group is larger than 15, so we can move onto the next assumption. "
   ]
  },
  {
   "cell_type": "markdown",
   "id": "e7be2fa4",
   "metadata": {},
   "source": [
    "###  Equal Variance"
   ]
  },
  {
   "cell_type": "code",
   "execution_count": 8,
   "id": "98725ef1",
   "metadata": {},
   "outputs": [
    {
     "data": {
      "text/plain": [
       "LeveneResult(statistic=33.1879945099394, pvalue=6.489653800820442e-20)"
      ]
     },
     "execution_count": 8,
     "metadata": {},
     "output_type": "execute_result"
    }
   ],
   "source": [
    "stats.levene(*groups.values())"
   ]
  },
  {
   "cell_type": "markdown",
   "id": "9240cd54",
   "metadata": {},
   "source": [
    "> We failed to met the assumption of equal variance.Therefore I will be using the Nonparametric tests(Kruskal-Wallis)."
   ]
  },
  {
   "cell_type": "markdown",
   "id": "9efabf2a",
   "metadata": {},
   "source": [
    "## Perform and evaluate Kruskal-Wallis test"
   ]
  },
  {
   "cell_type": "code",
   "execution_count": 9,
   "id": "7690a600",
   "metadata": {},
   "outputs": [
    {
     "data": {
      "text/plain": [
       "KruskalResult(statistic=100.04856791127328, pvalue=1.5172340163565511e-21)"
      ]
     },
     "execution_count": 9,
     "metadata": {},
     "output_type": "execute_result"
    }
   ],
   "source": [
    "# perform the correct hypothesis test\n",
    "# note again the use of the * operator for convenience\n",
    "result = stats.kruskal( *groups.values())\n",
    "result"
   ]
  },
  {
   "cell_type": "markdown",
   "id": "fd6cb141",
   "metadata": {},
   "source": [
    "> p-value is < alpha so we reject the null hypothesis. There is a significant difference in revenue between MPAA rating groups. We have supported the alternative hypothesis."
   ]
  },
  {
   "cell_type": "code",
   "execution_count": 10,
   "id": "485642f2",
   "metadata": {},
   "outputs": [
    {
     "data": {
      "text/html": [
       "<table class=\"simpletable\">\n",
       "<caption>Multiple Comparison of Means - Tukey HSD, FWER=0.05</caption>\n",
       "<tr>\n",
       "  <th>group1</th> <th>group2</th>    <th>meandiff</th>      <th>p-adj</th>      <th>lower</th>           <th>upper</th>      <th>reject</th>\n",
       "</tr>\n",
       "<tr>\n",
       "     <td>G</td>     <td>PG</td>   <td>152001722.5704</td>  <td>0.1007</td> <td>-18760310.6797</td>  <td>322763755.8204</td>   <td>False</td>\n",
       "</tr>\n",
       "<tr>\n",
       "     <td>G</td>    <td>PG-13</td> <td>268515802.1415</td>  <td>0.0001</td> <td>105450190.1283</td>  <td>431581414.1548</td>   <td>True</td> \n",
       "</tr>\n",
       "<tr>\n",
       "     <td>G</td>      <td>R</td>   <td>-67855687.2726</td>  <td>0.7092</td> <td>-231534008.5961</td>  <td>95822634.0508</td>   <td>False</td>\n",
       "</tr>\n",
       "<tr>\n",
       "    <td>PG</td>    <td>PG-13</td> <td>116514079.5712</td>  <td>0.0112</td>  <td>19366534.1254</td>  <td>213661625.0169</td>   <td>True</td> \n",
       "</tr>\n",
       "<tr>\n",
       "    <td>PG</td>      <td>R</td>   <td>-219857409.843</td>    <td>0.0</td>  <td>-318029934.6967</td> <td>-121684884.9894</td>  <td>True</td> \n",
       "</tr>\n",
       "<tr>\n",
       "   <td>PG-13</td>    <td>R</td>   <td>-336371489.4142</td>   <td>0.0</td>  <td>-420446256.4831</td> <td>-252296722.3452</td>  <td>True</td> \n",
       "</tr>\n",
       "</table>"
      ],
      "text/plain": [
       "<class 'statsmodels.iolib.table.SimpleTable'>"
      ]
     },
     "execution_count": 10,
     "metadata": {},
     "output_type": "execute_result"
    }
   ],
   "source": [
    "## perform tukey's multiple comparison test and display the summary\n",
    "tukeys_results = pairwise_tukeyhsd(rate_df['revenue'],rate_df['certification'])\n",
    "tukeys_results.summary()"
   ]
  },
  {
   "cell_type": "markdown",
   "id": "3e9e6d64",
   "metadata": {},
   "source": [
    "> There is a significant difference between G and PG-13, between P and PG, R, and between PG-13 and R."
   ]
  },
  {
   "cell_type": "markdown",
   "id": "d68d415f",
   "metadata": {},
   "source": [
    "# Visualization"
   ]
  },
  {
   "cell_type": "code",
   "execution_count": 104,
   "id": "53e7a2f0",
   "metadata": {},
   "outputs": [
    {
     "data": {
      "image/png": "[encoded data removed]",
      "text/plain": [
       "<Figure size 640x480 with 1 Axes>"
      ]
     },
     "metadata": {},
     "output_type": "display_data"
    }
   ],
   "source": [
    "#Convert the tick\n",
    "def thousands(x, pos):\n",
    "    return '%1.1fm' % (x * 1e-6)\n",
    "formatter = FuncFormatter(thousands)\n",
    "vis = rate_df.groupby('certification')['revenue'].mean().reset_index()\n",
    "ax = sns.barplot(x='certification',y='revenue', data=vis)\n",
    "ax.yaxis.set_major_formatter(formatter)\n",
    "plt.xlabel('Certification')\n",
    "plt.ylabel('Revenue')\n",
    "ax.bar_label(ax.containers[0],labels= vis['revenue'].apply(lambda x: '%1.1fm' % (x * 1e-6)))\n",
    "plt.savefig('img\\certification_graph.png')"
   ]
  },
  {
   "cell_type": "markdown",
   "id": "d85b95fa",
   "metadata": {},
   "source": [
    "> ON average PG-13 tend to have the highest revenue, while R movies tend to have the lowest revenue."
   ]
  },
  {
   "cell_type": "markdown",
   "id": "5806cd52",
   "metadata": {},
   "source": [
    "# Second Question:\n",
    "Do movies that are over 2.5 hours long earn more revenue than movies that are 1.5 hours long (or less)?"
   ]
  },
  {
   "cell_type": "markdown",
   "id": "64f83568",
   "metadata": {},
   "source": [
    ">- Null Hypothesis: There is no significant difference in revenue between movies that are over 2.5 hours long and movies that are 1.5 hours long (or less). \n",
    ">    \n",
    ">- Alternative  Hypothesis: There is a significant difference in revenue between movies that are over 2.5 hours long and movies that are 1.5 hours long (or less). "
   ]
  },
  {
   "cell_type": "markdown",
   "id": "96b89085",
   "metadata": {},
   "source": [
    "## Separating Our Groups"
   ]
  },
  {
   "cell_type": "code",
   "execution_count": 71,
   "id": "c64da9ec",
   "metadata": {},
   "outputs": [],
   "source": [
    "#making filter for runtime over 2.5 hours long and less 1.5hr\n",
    "# 2.5hr =150min, 1.5 = 90min\n",
    "filter25 = df['runtime'] > 150\n",
    "filter15 = df['runtime']<=90\n",
    "# making the groups\n",
    "rt25 = df.loc[filter25,'revenue']\n",
    "rt15 = df.loc[filter15,'revenue']"
   ]
  },
  {
   "cell_type": "markdown",
   "id": "407a1f55",
   "metadata": {},
   "source": [
    "> checking len of groups"
   ]
  },
  {
   "cell_type": "markdown",
   "id": "d6b84af0",
   "metadata": {},
   "source": [
    "## ASSUMPTIONS"
   ]
  },
  {
   "cell_type": "markdown",
   "id": "1c728b21",
   "metadata": {},
   "source": [
    "### Check for and remove outliers"
   ]
  },
  {
   "cell_type": "code",
   "execution_count": 65,
   "id": "f5b35684",
   "metadata": {},
   "outputs": [
    {
     "data": {
      "text/plain": [
       "0"
      ]
     },
     "execution_count": 65,
     "metadata": {},
     "output_type": "execute_result"
    }
   ],
   "source": [
    "# Check and remove for outliers in rt2.5\n",
    "zscores= stats.zscore(rt25)\n",
    "outliers = abs(zscores)>3\n",
    "np.sum(outliers)\n",
    "while np.sum(outliers) != 0:\n",
    "    zscores= stats.zscore(rt25)\n",
    "    outliers = abs(zscores)>3\n",
    "    np.sum(outliers)\n",
    "    # remove outliers\n",
    "    rt25 = rt25[(np.abs(stats.zscore(rt25)) < 3)]\n",
    "np.sum(outliers)"
   ]
  },
  {
   "cell_type": "code",
   "execution_count": 66,
   "id": "6f1d8f55",
   "metadata": {},
   "outputs": [
    {
     "data": {
      "text/plain": [
       "0"
      ]
     },
     "execution_count": 66,
     "metadata": {},
     "output_type": "execute_result"
    }
   ],
   "source": [
    "# Check and remove for outliers in rt15\n",
    "zscores= stats.zscore(rt15)\n",
    "outliers = abs(zscores)>3\n",
    "np.sum(outliers)\n",
    "while np.sum(outliers) != 0:\n",
    "    zscores= stats.zscore(rt15)\n",
    "    outliers = abs(zscores)>3\n",
    "    np.sum(outliers)\n",
    "    # remove outliers\n",
    "    rt15 = rt15[(np.abs(stats.zscore(rt15)) < 3)]\n",
    "np.sum(outliers)"
   ]
  },
  {
   "cell_type": "markdown",
   "id": "06315098",
   "metadata": {},
   "source": [
    "### Check for Normality"
   ]
  },
  {
   "cell_type": "code",
   "execution_count": 68,
   "id": "f94df6bb",
   "metadata": {},
   "outputs": [
    {
     "data": {
      "text/plain": [
       "NormaltestResult(statistic=16.298128805358157, pvalue=0.0002890056260676901)"
      ]
     },
     "execution_count": 68,
     "metadata": {},
     "output_type": "execute_result"
    }
   ],
   "source": [
    "# test the strength group for normality\n",
    "result = stats.normaltest(rt25)\n",
    "result"
   ]
  },
  {
   "cell_type": "code",
   "execution_count": 69,
   "id": "1d1ee2a1",
   "metadata": {},
   "outputs": [
    {
     "data": {
      "text/plain": [
       "NormaltestResult(statistic=17.358330404095803, pvalue=0.0001700930016370956)"
      ]
     },
     "execution_count": 69,
     "metadata": {},
     "output_type": "execute_result"
    }
   ],
   "source": [
    "# test the strength group for normality\n",
    "result = stats.normaltest(rt15)\n",
    "result"
   ]
  },
  {
   "cell_type": "markdown",
   "id": "24265105",
   "metadata": {},
   "source": [
    "> checking len of groups"
   ]
  },
  {
   "cell_type": "code",
   "execution_count": 73,
   "id": "1079dff8",
   "metadata": {},
   "outputs": [
    {
     "name": "stdout",
     "output_type": "stream",
     "text": [
      "28\n",
      "104\n"
     ]
    }
   ],
   "source": [
    "print(len(rt25))\n",
    "print(len(rt15))"
   ]
  },
  {
   "cell_type": "markdown",
   "id": "71b8d36f",
   "metadata": {},
   "source": [
    "> Our p-values for both group are well below 0.05 which means our data is NOT normally distributed.  However, our our sample size is large enough to proceed without satisfying this test.  For an independent t test, sample sizes of 15 per group are considered sufficient.\n",
    "\n"
   ]
  },
  {
   "cell_type": "markdown",
   "id": "eada0c6b",
   "metadata": {},
   "source": [
    "### Check for Equal Variance"
   ]
  },
  {
   "cell_type": "code",
   "execution_count": 74,
   "id": "7fb26afa",
   "metadata": {},
   "outputs": [
    {
     "data": {
      "text/plain": [
       "LeveneResult(statistic=31.070500361485372, pvalue=1.3769416083138792e-07)"
      ]
     },
     "execution_count": 74,
     "metadata": {},
     "output_type": "execute_result"
    }
   ],
   "source": [
    "result = stats.levene(rt25, rt15)\n",
    "result"
   ]
  },
  {
   "cell_type": "markdown",
   "id": "c4d06710",
   "metadata": {},
   "source": [
    ">Looks like we don't have equal variances, but that won't stop us! We just need to be sure to include \"equal_var = False\" when we perform our t-test.\n",
    "\n"
   ]
  },
  {
   "cell_type": "markdown",
   "id": "f73f9fe0",
   "metadata": {},
   "source": [
    "## Perform and evaluate the t-test"
   ]
  },
  {
   "cell_type": "code",
   "execution_count": 76,
   "id": "b0ff7382",
   "metadata": {},
   "outputs": [
    {
     "data": {
      "text/plain": [
       "Ttest_indResult(statistic=5.723620172655073, pvalue=3.833339538914961e-06)"
      ]
     },
     "execution_count": 76,
     "metadata": {},
     "output_type": "execute_result"
    }
   ],
   "source": [
    "# Independent t-test with equal_var set to False\n",
    "result = stats.ttest_ind(rt25, rt15, equal_var = False)\n",
    "result"
   ]
  },
  {
   "cell_type": "markdown",
   "id": "f0ef004b",
   "metadata": {},
   "source": [
    ">Our p value < alpha (0.05), so we reject the null hypothesis and accept that there is a significant difference in revenue between movies that are over 2.5 hours long and movies that are 1.5 hours long (or less)."
   ]
  },
  {
   "cell_type": "markdown",
   "id": "e1c0c4d1",
   "metadata": {},
   "source": [
    "## Visualization"
   ]
  },
  {
   "cell_type": "code",
   "execution_count": 105,
   "id": "47890c61",
   "metadata": {},
   "outputs": [
    {
     "data": {
      "image/png": "[encoded data removed]",
      "text/plain": [
       "<Figure size 640x480 with 1 Axes>"
      ]
     },
     "metadata": {},
     "output_type": "display_data"
    }
   ],
   "source": [
    "#Convert the tick\n",
    "def thousands(x,*pos):\n",
    "    return '%1.1fm' % (x * 1e-6)\n",
    "formatter = FuncFormatter(thousands)\n",
    "ax = sns.barplot(x=['Greater than 2.5.','Less than or equal to 1.5' ],y=[rt25.mean(),rt15.mean()], data=vis)\n",
    "ax.yaxis.set_major_formatter(formatter)\n",
    "plt.xlabel('Runtime')\n",
    "plt.ylabel('Revenue')\n",
    "ax.bar_label(ax.containers[0],labels=['%1.1fm' % (x * 1e-6) for x in [rt25.mean(),rt15.mean()]])\n",
    "plt.savefig('img\\Revenue.png')"
   ]
  },
  {
   "cell_type": "markdown",
   "id": "4e2ba1cc",
   "metadata": {},
   "source": [
    "> On average, movies that are over 2.5 hours long make more than more than 1.5 or less. "
   ]
  }
 ],
 "metadata": {
  "kernelspec": {
   "display_name": "Python (dojo-env)",
   "language": "python",
   "name": "dojo-env"
  },
  "language_info": {
   "codemirror_mode": {
    "name": "ipython",
    "version": 3
   },
   "file_extension": ".py",
   "mimetype": "text/x-python",
   "name": "python",
   "nbconvert_exporter": "python",
   "pygments_lexer": "ipython3",
   "version": "3.8.13"
  },
  "toc": {
   "base_numbering": 1,
   "nav_menu": {},
   "number_sections": false,
   "sideBar": true,
   "skip_h1_title": false,
   "title_cell": "Table of Contents",
   "title_sidebar": "Contents",
   "toc_cell": false,
   "toc_position": {
    "height": "calc(100% - 180px)",
    "left": "10px",
    "top": "150px",
    "width": "303.837px"
   },
   "toc_section_display": true,
   "toc_window_display": true
  }
 },
 "nbformat": 4,
 "nbformat_minor": 5
}
