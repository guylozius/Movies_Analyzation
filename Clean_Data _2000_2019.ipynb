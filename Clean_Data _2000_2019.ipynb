{
 "cells": [
  {
   "cell_type": "code",
   "execution_count": 1,
   "id": "c4814108",
   "metadata": {},
   "outputs": [],
   "source": [
    "import pandas as pd\n",
    "import numpy as np"
   ]
  },
  {
   "cell_type": "code",
   "execution_count": 2,
   "id": "7284ef64",
   "metadata": {},
   "outputs": [],
   "source": [
    "pd.set_option('display.max_colum', 500)"
   ]
  },
  {
   "cell_type": "code",
   "execution_count": 3,
   "id": "5891fc2b",
   "metadata": {},
   "outputs": [
    {
     "data": {
      "text/html": [
       "<div>\n",
       "<style scoped>\n",
       "    .dataframe tbody tr th:only-of-type {\n",
       "        vertical-align: middle;\n",
       "    }\n",
       "\n",
       "    .dataframe tbody tr th {\n",
       "        vertical-align: top;\n",
       "    }\n",
       "\n",
       "    .dataframe thead th {\n",
       "        text-align: right;\n",
       "    }\n",
       "</style>\n",
       "<table border=\"1\" class=\"dataframe\">\n",
       "  <thead>\n",
       "    <tr style=\"text-align: right;\">\n",
       "      <th></th>\n",
       "      <th>imdb_id</th>\n",
       "      <th>adult</th>\n",
       "      <th>backdrop_path</th>\n",
       "      <th>belongs_to_collection</th>\n",
       "      <th>budget</th>\n",
       "      <th>genres</th>\n",
       "      <th>homepage</th>\n",
       "      <th>id</th>\n",
       "      <th>original_language</th>\n",
       "      <th>original_title</th>\n",
       "      <th>overview</th>\n",
       "      <th>popularity</th>\n",
       "      <th>poster_path</th>\n",
       "      <th>production_companies</th>\n",
       "      <th>production_countries</th>\n",
       "      <th>release_date</th>\n",
       "      <th>revenue</th>\n",
       "      <th>runtime</th>\n",
       "      <th>spoken_languages</th>\n",
       "      <th>status</th>\n",
       "      <th>tagline</th>\n",
       "      <th>title</th>\n",
       "      <th>video</th>\n",
       "      <th>vote_average</th>\n",
       "      <th>vote_count</th>\n",
       "      <th>certification</th>\n",
       "    </tr>\n",
       "  </thead>\n",
       "  <tbody>\n",
       "    <tr>\n",
       "      <th>0</th>\n",
       "      <td>tt0144280</td>\n",
       "      <td>0.0</td>\n",
       "      <td>NaN</td>\n",
       "      <td>NaN</td>\n",
       "      <td>100000.0</td>\n",
       "      <td>[]</td>\n",
       "      <td>NaN</td>\n",
       "      <td>30356.0</td>\n",
       "      <td>en</td>\n",
       "      <td>Whispers from a Shallow Grave</td>\n",
       "      <td>When a beautiful photo model disappears, polic...</td>\n",
       "      <td>1.176</td>\n",
       "      <td>/cjRqAh3u2Z0MBx9GtT1k7Z9732w.jpg</td>\n",
       "      <td>[]</td>\n",
       "      <td>[{'iso_3166_1': 'US', 'name': 'United States o...</td>\n",
       "      <td>1997-01-01</td>\n",
       "      <td>0.0</td>\n",
       "      <td>90.0</td>\n",
       "      <td>[{'english_name': 'English', 'iso_639_1': 'en'...</td>\n",
       "      <td>Released</td>\n",
       "      <td>NaN</td>\n",
       "      <td>Whispers from a Shallow Grave</td>\n",
       "      <td>0.0</td>\n",
       "      <td>2.0</td>\n",
       "      <td>2.0</td>\n",
       "      <td>NaN</td>\n",
       "    </tr>\n",
       "    <tr>\n",
       "      <th>1</th>\n",
       "      <td>tt0197633</td>\n",
       "      <td>0.0</td>\n",
       "      <td>/1hGrzTajJ5JC6VfPzrUj8Gj5t5k.jpg</td>\n",
       "      <td>NaN</td>\n",
       "      <td>0.0</td>\n",
       "      <td>[{'id': 16, 'name': 'Animation'}, {'id': 35, '...</td>\n",
       "      <td>NaN</td>\n",
       "      <td>58520.0</td>\n",
       "      <td>en</td>\n",
       "      <td>Live Freaky Die Freaky</td>\n",
       "      <td>It is the year 3069 and the Earth has been rob...</td>\n",
       "      <td>3.131</td>\n",
       "      <td>/3QKPZ9SzMcBdqkKdSitQbmRqB2l.jpg</td>\n",
       "      <td>[]</td>\n",
       "      <td>[{'iso_3166_1': 'US', 'name': 'United States o...</td>\n",
       "      <td>2006-01-31</td>\n",
       "      <td>0.0</td>\n",
       "      <td>75.0</td>\n",
       "      <td>[{'english_name': 'English', 'iso_639_1': 'en'...</td>\n",
       "      <td>Released</td>\n",
       "      <td>NaN</td>\n",
       "      <td>Live Freaky Die Freaky</td>\n",
       "      <td>0.0</td>\n",
       "      <td>3.8</td>\n",
       "      <td>8.0</td>\n",
       "      <td>NR</td>\n",
       "    </tr>\n",
       "    <tr>\n",
       "      <th>2</th>\n",
       "      <td>tt0204250</td>\n",
       "      <td>0.0</td>\n",
       "      <td>/qKiOZMJH9Riqlk2SkUOgSMZHHJu.jpg</td>\n",
       "      <td>NaN</td>\n",
       "      <td>0.0</td>\n",
       "      <td>[{'id': 9648, 'name': 'Mystery'}, {'id': 35, '...</td>\n",
       "      <td>NaN</td>\n",
       "      <td>459563.0</td>\n",
       "      <td>en</td>\n",
       "      <td>Death of a Saleswoman</td>\n",
       "      <td>Top-ranking RubberTubber saleswoman Agatha J. ...</td>\n",
       "      <td>0.600</td>\n",
       "      <td>/tIfllOpkhZl5sbqZd1X77iiaJDj.jpg</td>\n",
       "      <td>[{'id': 90905, 'logo_path': None, 'name': 'Gir...</td>\n",
       "      <td>[{'iso_3166_1': 'US', 'name': 'United States o...</td>\n",
       "      <td>2006-09-18</td>\n",
       "      <td>0.0</td>\n",
       "      <td>77.0</td>\n",
       "      <td>[{'english_name': 'English', 'iso_639_1': 'en'...</td>\n",
       "      <td>Released</td>\n",
       "      <td>6 housewives. 1 dead body. A trunk full of pla...</td>\n",
       "      <td>Death of a Saleswoman</td>\n",
       "      <td>0.0</td>\n",
       "      <td>3.0</td>\n",
       "      <td>1.0</td>\n",
       "      <td>NaN</td>\n",
       "    </tr>\n",
       "    <tr>\n",
       "      <th>3</th>\n",
       "      <td>tt0206634</td>\n",
       "      <td>0.0</td>\n",
       "      <td>/z8FzomPxfCb2nv827VWLSI6oYiB.jpg</td>\n",
       "      <td>NaN</td>\n",
       "      <td>76000000.0</td>\n",
       "      <td>[{'id': 18, 'name': 'Drama'}, {'id': 28, 'name...</td>\n",
       "      <td>http://www.universalstudiosentertainment.com/c...</td>\n",
       "      <td>9693.0</td>\n",
       "      <td>en</td>\n",
       "      <td>Children of Men</td>\n",
       "      <td>In 2027, in a chaotic world in which humans ca...</td>\n",
       "      <td>19.318</td>\n",
       "      <td>/k9IAS4TehZFcKi4HVByxZNPfqex.jpg</td>\n",
       "      <td>[{'id': 33, 'logo_path': '/8lvHyhjr8oUKOOy2dKX...</td>\n",
       "      <td>[{'iso_3166_1': 'GB', 'name': 'United Kingdom'...</td>\n",
       "      <td>2006-09-22</td>\n",
       "      <td>70595464.0</td>\n",
       "      <td>109.0</td>\n",
       "      <td>[{'english_name': 'English', 'iso_639_1': 'en'...</td>\n",
       "      <td>Released</td>\n",
       "      <td>The future's a thing of the past.</td>\n",
       "      <td>Children of Men</td>\n",
       "      <td>0.0</td>\n",
       "      <td>7.6</td>\n",
       "      <td>5779.0</td>\n",
       "      <td>R</td>\n",
       "    </tr>\n",
       "    <tr>\n",
       "      <th>4</th>\n",
       "      <td>tt0244521</td>\n",
       "      <td>0.0</td>\n",
       "      <td>/4W53mm2nvOtiOuPNW2oiBm9pmUZ.jpg</td>\n",
       "      <td>NaN</td>\n",
       "      <td>0.0</td>\n",
       "      <td>[{'id': 35, 'name': 'Comedy'}, {'id': 80, 'nam...</td>\n",
       "      <td>NaN</td>\n",
       "      <td>9925.0</td>\n",
       "      <td>en</td>\n",
       "      <td>Funny Money</td>\n",
       "      <td>Henry Perkins, a mild-mannered accountant, acc...</td>\n",
       "      <td>5.591</td>\n",
       "      <td>/oG3jWUZiDqqrdk3oKwPEkuwoN89.jpg</td>\n",
       "      <td>[{'id': 110622, 'logo_path': None, 'name': 'FW...</td>\n",
       "      <td>[{'iso_3166_1': 'DE', 'name': 'Germany'}, {'is...</td>\n",
       "      <td>2006-01-01</td>\n",
       "      <td>0.0</td>\n",
       "      <td>98.0</td>\n",
       "      <td>[{'english_name': 'English', 'iso_639_1': 'en'...</td>\n",
       "      <td>Released</td>\n",
       "      <td>Henry Perkins accidentally trades briefcases w...</td>\n",
       "      <td>Funny Money</td>\n",
       "      <td>0.0</td>\n",
       "      <td>5.4</td>\n",
       "      <td>39.0</td>\n",
       "      <td>R</td>\n",
       "    </tr>\n",
       "  </tbody>\n",
       "</table>\n",
       "</div>"
      ],
      "text/plain": [
       "     imdb_id  adult                     backdrop_path belongs_to_collection  \\\n",
       "0  tt0144280    0.0                               NaN                   NaN   \n",
       "1  tt0197633    0.0  /1hGrzTajJ5JC6VfPzrUj8Gj5t5k.jpg                   NaN   \n",
       "2  tt0204250    0.0  /qKiOZMJH9Riqlk2SkUOgSMZHHJu.jpg                   NaN   \n",
       "3  tt0206634    0.0  /z8FzomPxfCb2nv827VWLSI6oYiB.jpg                   NaN   \n",
       "4  tt0244521    0.0  /4W53mm2nvOtiOuPNW2oiBm9pmUZ.jpg                   NaN   \n",
       "\n",
       "       budget                                             genres  \\\n",
       "0    100000.0                                                 []   \n",
       "1         0.0  [{'id': 16, 'name': 'Animation'}, {'id': 35, '...   \n",
       "2         0.0  [{'id': 9648, 'name': 'Mystery'}, {'id': 35, '...   \n",
       "3  76000000.0  [{'id': 18, 'name': 'Drama'}, {'id': 28, 'name...   \n",
       "4         0.0  [{'id': 35, 'name': 'Comedy'}, {'id': 80, 'nam...   \n",
       "\n",
       "                                            homepage        id  \\\n",
       "0                                                NaN   30356.0   \n",
       "1                                                NaN   58520.0   \n",
       "2                                                NaN  459563.0   \n",
       "3  http://www.universalstudiosentertainment.com/c...    9693.0   \n",
       "4                                                NaN    9925.0   \n",
       "\n",
       "  original_language                 original_title  \\\n",
       "0                en  Whispers from a Shallow Grave   \n",
       "1                en         Live Freaky Die Freaky   \n",
       "2                en          Death of a Saleswoman   \n",
       "3                en                Children of Men   \n",
       "4                en                    Funny Money   \n",
       "\n",
       "                                            overview  popularity  \\\n",
       "0  When a beautiful photo model disappears, polic...       1.176   \n",
       "1  It is the year 3069 and the Earth has been rob...       3.131   \n",
       "2  Top-ranking RubberTubber saleswoman Agatha J. ...       0.600   \n",
       "3  In 2027, in a chaotic world in which humans ca...      19.318   \n",
       "4  Henry Perkins, a mild-mannered accountant, acc...       5.591   \n",
       "\n",
       "                        poster_path  \\\n",
       "0  /cjRqAh3u2Z0MBx9GtT1k7Z9732w.jpg   \n",
       "1  /3QKPZ9SzMcBdqkKdSitQbmRqB2l.jpg   \n",
       "2  /tIfllOpkhZl5sbqZd1X77iiaJDj.jpg   \n",
       "3  /k9IAS4TehZFcKi4HVByxZNPfqex.jpg   \n",
       "4  /oG3jWUZiDqqrdk3oKwPEkuwoN89.jpg   \n",
       "\n",
       "                                production_companies  \\\n",
       "0                                                 []   \n",
       "1                                                 []   \n",
       "2  [{'id': 90905, 'logo_path': None, 'name': 'Gir...   \n",
       "3  [{'id': 33, 'logo_path': '/8lvHyhjr8oUKOOy2dKX...   \n",
       "4  [{'id': 110622, 'logo_path': None, 'name': 'FW...   \n",
       "\n",
       "                                production_countries release_date     revenue  \\\n",
       "0  [{'iso_3166_1': 'US', 'name': 'United States o...   1997-01-01         0.0   \n",
       "1  [{'iso_3166_1': 'US', 'name': 'United States o...   2006-01-31         0.0   \n",
       "2  [{'iso_3166_1': 'US', 'name': 'United States o...   2006-09-18         0.0   \n",
       "3  [{'iso_3166_1': 'GB', 'name': 'United Kingdom'...   2006-09-22  70595464.0   \n",
       "4  [{'iso_3166_1': 'DE', 'name': 'Germany'}, {'is...   2006-01-01         0.0   \n",
       "\n",
       "   runtime                                   spoken_languages    status  \\\n",
       "0     90.0  [{'english_name': 'English', 'iso_639_1': 'en'...  Released   \n",
       "1     75.0  [{'english_name': 'English', 'iso_639_1': 'en'...  Released   \n",
       "2     77.0  [{'english_name': 'English', 'iso_639_1': 'en'...  Released   \n",
       "3    109.0  [{'english_name': 'English', 'iso_639_1': 'en'...  Released   \n",
       "4     98.0  [{'english_name': 'English', 'iso_639_1': 'en'...  Released   \n",
       "\n",
       "                                             tagline  \\\n",
       "0                                                NaN   \n",
       "1                                                NaN   \n",
       "2  6 housewives. 1 dead body. A trunk full of pla...   \n",
       "3                  The future's a thing of the past.   \n",
       "4  Henry Perkins accidentally trades briefcases w...   \n",
       "\n",
       "                           title  video  vote_average  vote_count  \\\n",
       "0  Whispers from a Shallow Grave    0.0           2.0         2.0   \n",
       "1         Live Freaky Die Freaky    0.0           3.8         8.0   \n",
       "2          Death of a Saleswoman    0.0           3.0         1.0   \n",
       "3                Children of Men    0.0           7.6      5779.0   \n",
       "4                    Funny Money    0.0           5.4        39.0   \n",
       "\n",
       "  certification  \n",
       "0           NaN  \n",
       "1            NR  \n",
       "2           NaN  \n",
       "3             R  \n",
       "4             R  "
      ]
     },
     "execution_count": 3,
     "metadata": {},
     "output_type": "execute_result"
    }
   ],
   "source": [
    "df = pd.read_csv('Data/combined_tmdb_data.csv',lineterminator='\\n', low_memory = False)\n",
    "df.head()"
   ]
  },
  {
   "cell_type": "code",
   "execution_count": 4,
   "id": "9920d95f",
   "metadata": {},
   "outputs": [],
   "source": [
    "# convert release_date column to timedata type\n",
    "df['release_date'] =  pd.to_datetime(df['release_date'], format='%Y-%m-%d %H:%M:%S.%f', errors='coerce')"
   ]
  },
  {
   "cell_type": "code",
   "execution_count": 5,
   "id": "e2224b53",
   "metadata": {},
   "outputs": [
    {
     "data": {
      "text/plain": [
       "2019    4593\n",
       "2018    4392\n",
       "2017    4181\n",
       "2016    3722\n",
       "2021    3656\n",
       "2020    3655\n",
       "2015    3625\n",
       "2014    3588\n",
       "2013    3432\n",
       "2012    3125\n",
       "2011    2834\n",
       "2010    2418\n",
       "2009    2262\n",
       "2008    2025\n",
       "2007    1823\n",
       "2006    1725\n",
       "2005    1538\n",
       "2004    1391\n",
       "2001    1239\n",
       "2003    1238\n",
       "2002    1214\n",
       "2000    1109\n",
       "2022     247\n",
       "1999      23\n",
       "1995       5\n",
       "1997       4\n",
       "1998       4\n",
       "1990       2\n",
       "1996       2\n",
       "1988       1\n",
       "1994       1\n",
       "1987       1\n",
       "1977       1\n",
       "1984       1\n",
       "1973       1\n",
       "Name: release_date, dtype: int64"
      ]
     },
     "execution_count": 5,
     "metadata": {},
     "output_type": "execute_result"
    }
   ],
   "source": [
    "df['release_date'].dt.strftime('%Y').value_counts()"
   ]
  },
  {
   "cell_type": "code",
   "execution_count": 6,
   "id": "407096a0",
   "metadata": {},
   "outputs": [],
   "source": [
    "#only keep movies between 2000-2019\n",
    "years_filter = (df['release_date'].dt.strftime('%Y').astype('float64') >= 2000) &  (df['release_date'].dt.strftime('%Y').astype('float64') <= 2020)\n",
    "df = df.loc[years_filter,:].copy()"
   ]
  },
  {
   "cell_type": "code",
   "execution_count": 7,
   "id": "6c466036",
   "metadata": {},
   "outputs": [
    {
     "data": {
      "text/plain": [
       "8"
      ]
     },
     "execution_count": 7,
     "metadata": {},
     "output_type": "execute_result"
    }
   ],
   "source": [
    "# checking nan values\n",
    "df.isna().any().sum()"
   ]
  },
  {
   "cell_type": "code",
   "execution_count": 8,
   "id": "117a8afd",
   "metadata": {},
   "outputs": [],
   "source": [
    "#drop na value\n",
    "df = df.dropna()"
   ]
  },
  {
   "cell_type": "code",
   "execution_count": 9,
   "id": "95aa7de5",
   "metadata": {},
   "outputs": [
    {
     "data": {
      "text/plain": [
       "0"
      ]
     },
     "execution_count": 9,
     "metadata": {},
     "output_type": "execute_result"
    }
   ],
   "source": [
    "#check for double\n",
    "df.duplicated().sum()"
   ]
  },
  {
   "cell_type": "code",
   "execution_count": 10,
   "id": "d3364406",
   "metadata": {},
   "outputs": [
    {
     "data": {
      "text/plain": [
       "PG-13    236\n",
       "R        223\n",
       "PG       135\n",
       "G         35\n",
       "NR        31\n",
       "NC-17      3\n",
       "Name: certification, dtype: int64"
      ]
     },
     "execution_count": 10,
     "metadata": {},
     "output_type": "execute_result"
    }
   ],
   "source": [
    "df['certification'].value_counts()"
   ]
  },
  {
   "cell_type": "code",
   "execution_count": 11,
   "id": "a1f77492",
   "metadata": {},
   "outputs": [
    {
     "data": {
      "text/plain": [
       "PG-13    236\n",
       "R        223\n",
       "PG       135\n",
       "G         35\n",
       "Name: certification, dtype: int64"
      ]
     },
     "execution_count": 11,
     "metadata": {},
     "output_type": "execute_result"
    }
   ],
   "source": [
    "#drop 'NR' and 'NC-17' values from certification column\n",
    "df = df.loc[(df['certification']!='NR') & (df['certification']!='NC-17'),:]\n",
    "df['certification'].value_counts()"
   ]
  },
  {
   "cell_type": "code",
   "execution_count": 12,
   "id": "cb5b4289",
   "metadata": {},
   "outputs": [],
   "source": [
    "#export dataframe\n",
    "df.to_csv('Data/clean_combined_tmdb_data.csv',compression=\"gzip\", index=False)"
   ]
  }
 ],
 "metadata": {
  "kernelspec": {
   "display_name": "Python 3 (ipykernel)",
   "language": "python",
   "name": "python3"
  },
  "language_info": {
   "codemirror_mode": {
    "name": "ipython",
    "version": 3
   },
   "file_extension": ".py",
   "mimetype": "text/x-python",
   "name": "python",
   "nbconvert_exporter": "python",
   "pygments_lexer": "ipython3",
   "version": "3.8.13"
  },
  "toc": {
   "base_numbering": 1,
   "nav_menu": {},
   "number_sections": false,
   "sideBar": true,
   "skip_h1_title": false,
   "title_cell": "Table of Contents",
   "title_sidebar": "Contents",
   "toc_cell": false,
   "toc_position": {},
   "toc_section_display": true,
   "toc_window_display": false
  }
 },
 "nbformat": 4,
 "nbformat_minor": 5
}
