{
 "cells": [
  {
   "cell_type": "markdown",
   "id": "d15cd982",
   "metadata": {},
   "source": [
    "# Importing Packages And Dataset"
   ]
  },
  {
   "cell_type": "code",
   "execution_count": 1,
   "id": "96dddde2",
   "metadata": {},
   "outputs": [],
   "source": [
    "import pandas as pd\n",
    "import numpy as np\n",
    "import matplotlib.pyplot as plt\n",
    "import seaborn as sns\n",
    "import os, time,json\n",
    "import tmdbsimple as tmdb \n",
    "from tqdm.notebook import tqdm_notebook\n",
    "import tmdbsimple as tmdb"
   ]
  },
  {
   "cell_type": "code",
   "execution_count": 2,
   "id": "c08dfcd5",
   "metadata": {},
   "outputs": [],
   "source": [
    "#Import data\n",
    "year_2000_df = pd.read_csv(\"Data/final_tmdb_data_2000.csv.gz\", low_memory = False)\n",
    "year_2001_df = pd.read_csv(\"Data/final_tmdb_data_2001.csv.gz\", low_memory = False)"
   ]
  },
  {
   "cell_type": "markdown",
   "id": "65c38304",
   "metadata": {},
   "source": [
    "## Data Cleaning Pt. 2"
   ]
  },
  {
   "cell_type": "code",
   "execution_count": 4,
   "id": "185ab470",
   "metadata": {},
   "outputs": [],
   "source": [
    "# Keep only the imdb_id, certification, revenue, budget\n",
    "year_2000_df = year_2000_df[['imdb_id','revenue','budget','certification']]\n",
    "# Keep only the imdb_id, certification, revenue, budget\n",
    "year_2001_df = year_2001_df[['imdb_id','revenue','budget','certification']]"
   ]
  },
  {
   "cell_type": "code",
   "execution_count": 5,
   "id": "2d60ee63",
   "metadata": {},
   "outputs": [],
   "source": [
    "#Drop all row with nan value\n",
    "year_2000_df.dropna(inplace = True)\n",
    "year_2001_df.dropna(inplace=True)"
   ]
  },
  {
   "cell_type": "code",
   "execution_count": 6,
   "id": "75f28287",
   "metadata": {},
   "outputs": [
    {
     "name": "stdout",
     "output_type": "stream",
     "text": [
      "0\n",
      "0\n"
     ]
    }
   ],
   "source": [
    "# checking duplicate value\n",
    "print(year_2000_df.duplicated().sum())\n",
    "print(year_2001_df.duplicated().sum())"
   ]
  },
  {
   "cell_type": "markdown",
   "id": "0da782cb",
   "metadata": {},
   "source": [
    "> There no duplicate values"
   ]
  },
  {
   "cell_type": "markdown",
   "id": "a50afc2c",
   "metadata": {},
   "source": [
    "# Concatenate between 2000 to 2001"
   ]
  },
  {
   "cell_type": "code",
   "execution_count": 7,
   "id": "e4121db4",
   "metadata": {},
   "outputs": [
    {
     "data": {
      "text/html": [
       "<div>\n",
       "<style scoped>\n",
       "    .dataframe tbody tr th:only-of-type {\n",
       "        vertical-align: middle;\n",
       "    }\n",
       "\n",
       "    .dataframe tbody tr th {\n",
       "        vertical-align: top;\n",
       "    }\n",
       "\n",
       "    .dataframe thead th {\n",
       "        text-align: right;\n",
       "    }\n",
       "</style>\n",
       "<table border=\"1\" class=\"dataframe\">\n",
       "  <thead>\n",
       "    <tr style=\"text-align: right;\">\n",
       "      <th></th>\n",
       "      <th>imdb_id</th>\n",
       "      <th>revenue</th>\n",
       "      <th>budget</th>\n",
       "      <th>certification</th>\n",
       "    </tr>\n",
       "  </thead>\n",
       "  <tbody>\n",
       "    <tr>\n",
       "      <th>4</th>\n",
       "      <td>tt0118694</td>\n",
       "      <td>12854953.0</td>\n",
       "      <td>150000.0</td>\n",
       "      <td>PG</td>\n",
       "    </tr>\n",
       "    <tr>\n",
       "      <th>5</th>\n",
       "      <td>tt0118852</td>\n",
       "      <td>0.0</td>\n",
       "      <td>0.0</td>\n",
       "      <td>R</td>\n",
       "    </tr>\n",
       "    <tr>\n",
       "      <th>6</th>\n",
       "      <td>tt0119273</td>\n",
       "      <td>0.0</td>\n",
       "      <td>15000000.0</td>\n",
       "      <td>R</td>\n",
       "    </tr>\n",
       "    <tr>\n",
       "      <th>7</th>\n",
       "      <td>tt0119495</td>\n",
       "      <td>0.0</td>\n",
       "      <td>0.0</td>\n",
       "      <td>R</td>\n",
       "    </tr>\n",
       "    <tr>\n",
       "      <th>11</th>\n",
       "      <td>tt0120467</td>\n",
       "      <td>14904.0</td>\n",
       "      <td>120000.0</td>\n",
       "      <td>R</td>\n",
       "    </tr>\n",
       "  </tbody>\n",
       "</table>\n",
       "</div>"
      ],
      "text/plain": [
       "      imdb_id     revenue      budget certification\n",
       "4   tt0118694  12854953.0    150000.0            PG\n",
       "5   tt0118852         0.0         0.0             R\n",
       "6   tt0119273         0.0  15000000.0             R\n",
       "7   tt0119495         0.0         0.0             R\n",
       "11  tt0120467     14904.0    120000.0             R"
      ]
     },
     "execution_count": 7,
     "metadata": {},
     "output_type": "execute_result"
    }
   ],
   "source": [
    "year_2000_df.head()"
   ]
  },
  {
   "cell_type": "code",
   "execution_count": 8,
   "id": "dccea8a1",
   "metadata": {},
   "outputs": [
    {
     "data": {
      "text/html": [
       "<div>\n",
       "<style scoped>\n",
       "    .dataframe tbody tr th:only-of-type {\n",
       "        vertical-align: middle;\n",
       "    }\n",
       "\n",
       "    .dataframe tbody tr th {\n",
       "        vertical-align: top;\n",
       "    }\n",
       "\n",
       "    .dataframe thead th {\n",
       "        text-align: right;\n",
       "    }\n",
       "</style>\n",
       "<table border=\"1\" class=\"dataframe\">\n",
       "  <thead>\n",
       "    <tr style=\"text-align: right;\">\n",
       "      <th></th>\n",
       "      <th>imdb_id</th>\n",
       "      <th>revenue</th>\n",
       "      <th>budget</th>\n",
       "      <th>certification</th>\n",
       "    </tr>\n",
       "  </thead>\n",
       "  <tbody>\n",
       "    <tr>\n",
       "      <th>1243</th>\n",
       "      <td>tt0810831</td>\n",
       "      <td>0.0</td>\n",
       "      <td>0.0</td>\n",
       "      <td>G</td>\n",
       "    </tr>\n",
       "    <tr>\n",
       "      <th>1245</th>\n",
       "      <td>tt0832449</td>\n",
       "      <td>0.0</td>\n",
       "      <td>0.0</td>\n",
       "      <td>PG-13</td>\n",
       "    </tr>\n",
       "    <tr>\n",
       "      <th>1249</th>\n",
       "      <td>tt1073223</td>\n",
       "      <td>0.0</td>\n",
       "      <td>0.0</td>\n",
       "      <td>PG-13</td>\n",
       "    </tr>\n",
       "    <tr>\n",
       "      <th>1274</th>\n",
       "      <td>tt3041064</td>\n",
       "      <td>0.0</td>\n",
       "      <td>0.0</td>\n",
       "      <td>NR</td>\n",
       "    </tr>\n",
       "    <tr>\n",
       "      <th>1290</th>\n",
       "      <td>tt8795764</td>\n",
       "      <td>0.0</td>\n",
       "      <td>0.0</td>\n",
       "      <td>NR</td>\n",
       "    </tr>\n",
       "  </tbody>\n",
       "</table>\n",
       "</div>"
      ],
      "text/plain": [
       "        imdb_id  revenue  budget certification\n",
       "1243  tt0810831      0.0     0.0             G\n",
       "1245  tt0832449      0.0     0.0         PG-13\n",
       "1249  tt1073223      0.0     0.0         PG-13\n",
       "1274  tt3041064      0.0     0.0            NR\n",
       "1290  tt8795764      0.0     0.0            NR"
      ]
     },
     "execution_count": 8,
     "metadata": {},
     "output_type": "execute_result"
    }
   ],
   "source": [
    "year_2001_df.tail()"
   ]
  },
  {
   "cell_type": "code",
   "execution_count": 9,
   "id": "f60e0341",
   "metadata": {},
   "outputs": [
    {
     "data": {
      "text/html": [
       "<div>\n",
       "<style scoped>\n",
       "    .dataframe tbody tr th:only-of-type {\n",
       "        vertical-align: middle;\n",
       "    }\n",
       "\n",
       "    .dataframe tbody tr th {\n",
       "        vertical-align: top;\n",
       "    }\n",
       "\n",
       "    .dataframe thead th {\n",
       "        text-align: right;\n",
       "    }\n",
       "</style>\n",
       "<table border=\"1\" class=\"dataframe\">\n",
       "  <thead>\n",
       "    <tr style=\"text-align: right;\">\n",
       "      <th></th>\n",
       "      <th>imdb_id</th>\n",
       "      <th>revenue</th>\n",
       "      <th>budget</th>\n",
       "      <th>certification</th>\n",
       "    </tr>\n",
       "  </thead>\n",
       "  <tbody>\n",
       "    <tr>\n",
       "      <th>4</th>\n",
       "      <td>tt0118694</td>\n",
       "      <td>12854953.0</td>\n",
       "      <td>150000.0</td>\n",
       "      <td>PG</td>\n",
       "    </tr>\n",
       "    <tr>\n",
       "      <th>5</th>\n",
       "      <td>tt0118852</td>\n",
       "      <td>0.0</td>\n",
       "      <td>0.0</td>\n",
       "      <td>R</td>\n",
       "    </tr>\n",
       "    <tr>\n",
       "      <th>6</th>\n",
       "      <td>tt0119273</td>\n",
       "      <td>0.0</td>\n",
       "      <td>15000000.0</td>\n",
       "      <td>R</td>\n",
       "    </tr>\n",
       "    <tr>\n",
       "      <th>7</th>\n",
       "      <td>tt0119495</td>\n",
       "      <td>0.0</td>\n",
       "      <td>0.0</td>\n",
       "      <td>R</td>\n",
       "    </tr>\n",
       "    <tr>\n",
       "      <th>11</th>\n",
       "      <td>tt0120467</td>\n",
       "      <td>14904.0</td>\n",
       "      <td>120000.0</td>\n",
       "      <td>R</td>\n",
       "    </tr>\n",
       "  </tbody>\n",
       "</table>\n",
       "</div>"
      ],
      "text/plain": [
       "      imdb_id     revenue      budget certification\n",
       "4   tt0118694  12854953.0    150000.0            PG\n",
       "5   tt0118852         0.0         0.0             R\n",
       "6   tt0119273         0.0  15000000.0             R\n",
       "7   tt0119495         0.0         0.0             R\n",
       "11  tt0120467     14904.0    120000.0             R"
      ]
     },
     "metadata": {},
     "output_type": "display_data"
    },
    {
     "data": {
      "text/html": [
       "<div>\n",
       "<style scoped>\n",
       "    .dataframe tbody tr th:only-of-type {\n",
       "        vertical-align: middle;\n",
       "    }\n",
       "\n",
       "    .dataframe tbody tr th {\n",
       "        vertical-align: top;\n",
       "    }\n",
       "\n",
       "    .dataframe thead th {\n",
       "        text-align: right;\n",
       "    }\n",
       "</style>\n",
       "<table border=\"1\" class=\"dataframe\">\n",
       "  <thead>\n",
       "    <tr style=\"text-align: right;\">\n",
       "      <th></th>\n",
       "      <th>imdb_id</th>\n",
       "      <th>revenue</th>\n",
       "      <th>budget</th>\n",
       "      <th>certification</th>\n",
       "    </tr>\n",
       "  </thead>\n",
       "  <tbody>\n",
       "    <tr>\n",
       "      <th>1243</th>\n",
       "      <td>tt0810831</td>\n",
       "      <td>0.0</td>\n",
       "      <td>0.0</td>\n",
       "      <td>G</td>\n",
       "    </tr>\n",
       "    <tr>\n",
       "      <th>1245</th>\n",
       "      <td>tt0832449</td>\n",
       "      <td>0.0</td>\n",
       "      <td>0.0</td>\n",
       "      <td>PG-13</td>\n",
       "    </tr>\n",
       "    <tr>\n",
       "      <th>1249</th>\n",
       "      <td>tt1073223</td>\n",
       "      <td>0.0</td>\n",
       "      <td>0.0</td>\n",
       "      <td>PG-13</td>\n",
       "    </tr>\n",
       "    <tr>\n",
       "      <th>1274</th>\n",
       "      <td>tt3041064</td>\n",
       "      <td>0.0</td>\n",
       "      <td>0.0</td>\n",
       "      <td>NR</td>\n",
       "    </tr>\n",
       "    <tr>\n",
       "      <th>1290</th>\n",
       "      <td>tt8795764</td>\n",
       "      <td>0.0</td>\n",
       "      <td>0.0</td>\n",
       "      <td>NR</td>\n",
       "    </tr>\n",
       "  </tbody>\n",
       "</table>\n",
       "</div>"
      ],
      "text/plain": [
       "        imdb_id  revenue  budget certification\n",
       "1243  tt0810831      0.0     0.0             G\n",
       "1245  tt0832449      0.0     0.0         PG-13\n",
       "1249  tt1073223      0.0     0.0         PG-13\n",
       "1274  tt3041064      0.0     0.0            NR\n",
       "1290  tt8795764      0.0     0.0            NR"
      ]
     },
     "metadata": {},
     "output_type": "display_data"
    }
   ],
   "source": [
    "rbr_df = pd.concat([year_2000_df, year_2001_df], axis=0, join=\"inner\")\n",
    "display(rbr_df.head(), rbr_df.tail())"
   ]
  },
  {
   "cell_type": "markdown",
   "id": "1622a567",
   "metadata": {},
   "source": [
    "# Data Exploration"
   ]
  },
  {
   "cell_type": "markdown",
   "id": "6f936b9e",
   "metadata": {},
   "source": [
    "> How many movies had at least some valid financial information (values > 0 for budget OR revenue)?"
   ]
  },
  {
   "cell_type": "code",
   "execution_count": 10,
   "id": "1feac3c4",
   "metadata": {},
   "outputs": [
    {
     "data": {
      "image/png": "[encoded data removed]",
      "text/plain": [
       "<Figure size 640x480 with 1 Axes>"
      ]
     },
     "metadata": {},
     "output_type": "display_data"
    }
   ],
   "source": [
    "# Making a filter for budget OR revenue > 0\n",
    "bud_filter = rbr_df['revenue'] > 0\n",
    "rev_filter = rbr_df['budget'] > 0\n",
    "# Create dataframe with budget OR revenue > 0\n",
    "valid_fin_df = rbr_df.loc[bud_filter & rev_filter, :]\n",
    "vaild_percent = len(valid_fin_df)/len(rbr_df)\n",
    "nonvaild_percent = (len(rbr_df)-len(valid_fin_df))/len(rbr_df)\n",
    "# Making the graph \n",
    "colors = sns.color_palette('bright')[0:2]\n",
    "plt.pie([vaild_percent, nonvaild_percent], labels = ['vaild','nonvaild'], colors = colors, autopct='%.0f%%')\n",
    "plt.title('Percentage of Valid financial information')\n",
    "plt.show()"
   ]
  },
  {
   "cell_type": "markdown",
   "id": "90218d18",
   "metadata": {},
   "source": [
    "> 38 percent of movies have a vaild financial information"
   ]
  },
  {
   "cell_type": "markdown",
   "id": "65cb75ca",
   "metadata": {},
   "source": [
    ">How many movies are there in each of the certification categories (G/PG/PG-13/R)?"
   ]
  },
  {
   "cell_type": "code",
   "execution_count": 11,
   "id": "faedb513",
   "metadata": {},
   "outputs": [
    {
     "data": {
      "image/png": "[encoded data removed]",
      "text/plain": [
       "<Figure size 640x480 with 1 Axes>"
      ]
     },
     "metadata": {},
     "output_type": "display_data"
    }
   ],
   "source": [
    "ax =sns.countplot(x='certification', data=rbr_df.loc[bud_filter & rev_filter, :])\n",
    "plt.title('Number of movies per certification categories  ')\n",
    "ax.bar_label(ax.containers[0]);"
   ]
  },
  {
   "cell_type": "markdown",
   "id": "be880b02",
   "metadata": {},
   "source": [
    "> R rated movies have the highest count with 452</br>\n",
    "NC-17 is the lowest."
   ]
  },
  {
   "cell_type": "markdown",
   "id": "a37fa5d0",
   "metadata": {},
   "source": [
    "> What is the average revenue per certification category?"
   ]
  },
  {
   "cell_type": "code",
   "execution_count": 12,
   "id": "6f7d60e7",
   "metadata": {},
   "outputs": [
    {
     "data": {
      "image/png": "[encoded data removed]",
      "text/plain": [
       "<Figure size 640x480 with 1 Axes>"
      ]
     },
     "metadata": {},
     "output_type": "display_data"
    }
   ],
   "source": [
    "from matplotlib.ticker import FuncFormatter\n",
    "#Convert the tick\n",
    "def thousands(x, pos):\n",
    "    return '%1.1fm' % (x * 1e-7)\n",
    "\n",
    "formatter = FuncFormatter(thousands)\n",
    "fig, ax = plt.subplots()\n",
    "avg_rev = rbr_df.loc[bud_filter & rev_filter, :].groupby('certification')['revenue'].mean()\n",
    "plt.title('average of revenue per certification categories')\n",
    "sns.barplot(x= avg_rev.index, y=avg_rev).yaxis.set_major_formatter(formatter)\n",
    "for p,date in zip(ax.patches, avg_rev.apply(lambda x: '%1.1fm' % (x * 1e-7))):\n",
    "    ax.annotate(date, xy=(p.get_x()+p.get_width()/2, p.get_height()),\n",
    "                ha='center', va='bottom')\n",
    "\n",
    "\n"
   ]
  },
  {
   "cell_type": "markdown",
   "id": "4d75f26d",
   "metadata": {},
   "source": [
    "> What is the average budget per certification category?"
   ]
  },
  {
   "cell_type": "code",
   "execution_count": 13,
   "id": "179cd4bb",
   "metadata": {},
   "outputs": [
    {
     "data": {
      "image/png": "[encoded data removed]",
      "text/plain": [
       "<Figure size 640x480 with 1 Axes>"
      ]
     },
     "metadata": {},
     "output_type": "display_data"
    }
   ],
   "source": [
    "fig, ax = plt.subplots()\n",
    "avg_rev = rbr_df.loc[bud_filter & rev_filter, :].groupby('certification')['budget'].mean()\n",
    "sns.barplot(x= avg_rev.index, y=avg_rev).yaxis.set_major_formatter(formatter)\n",
    "plt.title('average of budget per certification categories')\n",
    "for p,date in zip(ax.patches, avg_rev.apply(lambda x: '%1.1fm' % (x * 1e-7))):\n",
    "    ax.annotate(date, xy=(p.get_x()+p.get_width()/2, p.get_height()),\n",
    "                ha='center', va='bottom')\n"
   ]
  },
  {
   "cell_type": "code",
   "execution_count": null,
   "id": "c977c9a8",
   "metadata": {},
   "outputs": [],
   "source": []
  }
 ],
 "metadata": {
  "kernelspec": {
   "display_name": "Python (dojo-env)",
   "language": "python",
   "name": "dojo-env"
  },
  "language_info": {
   "codemirror_mode": {
    "name": "ipython",
    "version": 3
   },
   "file_extension": ".py",
   "mimetype": "text/x-python",
   "name": "python",
   "nbconvert_exporter": "python",
   "pygments_lexer": "ipython3",
   "version": "3.8.13"
  },
  "toc": {
   "base_numbering": 1,
   "nav_menu": {},
   "number_sections": false,
   "sideBar": true,
   "skip_h1_title": false,
   "title_cell": "Table of Contents",
   "title_sidebar": "Contents",
   "toc_cell": false,
   "toc_position": {
    "height": "calc(100% - 180px)",
    "left": "10px",
    "top": "150px",
    "width": "303.837px"
   },
   "toc_section_display": true,
   "toc_window_display": true
  }
 },
 "nbformat": 4,
 "nbformat_minor": 5
}
