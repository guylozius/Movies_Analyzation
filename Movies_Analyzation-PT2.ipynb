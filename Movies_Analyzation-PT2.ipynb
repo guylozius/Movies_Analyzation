{
 "cells": [
  {
   "cell_type": "markdown",
   "id": "d15cd982",
   "metadata": {},
   "source": [
    "# Importing Packages And Dataset"
   ]
  },
  {
   "cell_type": "code",
   "execution_count": 1,
   "id": "96dddde2",
   "metadata": {},
   "outputs": [],
   "source": [
    "import pandas as pd\n",
    "import numpy as np\n",
    "import matplotlib.pyplot as plt\n",
    "import seaborn as sns\n",
    "import os, time,json\n",
    "import tmdbsimple as tmdb \n",
    "from tqdm.notebook import tqdm_notebook\n",
    "import tmdbsimple as tmdb"
   ]
  },
  {
   "cell_type": "code",
   "execution_count": 2,
   "id": "c08dfcd5",
   "metadata": {},
   "outputs": [],
   "source": [
    "#Import data\n",
    "year_2000_df = pd.read_csv(\"Data/final_tmdb_data_2000.csv.gz\", low_memory = False)\n",
    "year_2001_df = pd.read_csv(\"Data/final_tmdb_data_2001.csv.gz\", low_memory = False)"
   ]
  },
  {
   "cell_type": "markdown",
   "id": "65c38304",
   "metadata": {
    "heading_collapsed": true
   },
   "source": [
    "## Data Cleaning Pt. 2"
   ]
  },
  {
   "cell_type": "code",
   "execution_count": 4,
   "id": "185ab470",
   "metadata": {
    "hidden": true
   },
   "outputs": [],
   "source": [
    "# Keep only the imdb_id, certification, revenue, budget\n",
    "year_2000_df = year_2000_df[['imdb_id','revenue','budget','certification']]\n",
    "# Keep only the imdb_id, certification, revenue, budget\n",
    "year_2001_df = year_2001_df[['imdb_id','revenue','budget','certification']]"
   ]
  },
  {
   "cell_type": "code",
   "execution_count": 5,
   "id": "2d60ee63",
   "metadata": {
    "hidden": true
   },
   "outputs": [],
   "source": [
    "#Drop all row with nan value\n",
    "year_2000_df.dropna(inplace = True)\n",
    "year_2001_df.dropna(inplace=True)"
   ]
  },
  {
   "cell_type": "code",
   "execution_count": 6,
   "id": "75f28287",
   "metadata": {
    "hidden": true
   },
   "outputs": [
    {
     "name": "stdout",
     "output_type": "stream",
     "text": [
      "0\n",
      "0\n"
     ]
    }
   ],
   "source": [
    "# checking duplicate value\n",
    "print(year_2000_df.duplicated().sum())\n",
    "print(year_2001_df.duplicated().sum())"
   ]
  },
  {
   "cell_type": "markdown",
   "id": "0da782cb",
   "metadata": {
    "hidden": true
   },
   "source": [
    "> There no duplicate values"
   ]
  },
  {
   "cell_type": "markdown",
   "id": "a50afc2c",
   "metadata": {},
   "source": [
    "# Concatenate between 2000 to 2001"
   ]
  },
  {
   "cell_type": "code",
   "execution_count": 7,
   "id": "e4121db4",
   "metadata": {},
   "outputs": [
    {
     "data": {
      "text/html": [
       "<div>\n",
       "<style scoped>\n",
       "    .dataframe tbody tr th:only-of-type {\n",
       "        vertical-align: middle;\n",
       "    }\n",
       "\n",
       "    .dataframe tbody tr th {\n",
       "        vertical-align: top;\n",
       "    }\n",
       "\n",
       "    .dataframe thead th {\n",
       "        text-align: right;\n",
       "    }\n",
       "</style>\n",
       "<table border=\"1\" class=\"dataframe\">\n",
       "  <thead>\n",
       "    <tr style=\"text-align: right;\">\n",
       "      <th></th>\n",
       "      <th>imdb_id</th>\n",
       "      <th>revenue</th>\n",
       "      <th>budget</th>\n",
       "      <th>certification</th>\n",
       "    </tr>\n",
       "  </thead>\n",
       "  <tbody>\n",
       "    <tr>\n",
       "      <th>4</th>\n",
       "      <td>tt0118694</td>\n",
       "      <td>12854953.0</td>\n",
       "      <td>150000.0</td>\n",
       "      <td>PG</td>\n",
       "    </tr>\n",
       "    <tr>\n",
       "      <th>5</th>\n",
       "      <td>tt0118852</td>\n",
       "      <td>0.0</td>\n",
       "      <td>0.0</td>\n",
       "      <td>R</td>\n",
       "    </tr>\n",
       "    <tr>\n",
       "      <th>6</th>\n",
       "      <td>tt0119273</td>\n",
       "      <td>0.0</td>\n",
       "      <td>15000000.0</td>\n",
       "      <td>R</td>\n",
       "    </tr>\n",
       "    <tr>\n",
       "      <th>7</th>\n",
       "      <td>tt0119495</td>\n",
       "      <td>0.0</td>\n",
       "      <td>0.0</td>\n",
       "      <td>R</td>\n",
       "    </tr>\n",
       "    <tr>\n",
       "      <th>11</th>\n",
       "      <td>tt0120467</td>\n",
       "      <td>14904.0</td>\n",
       "      <td>120000.0</td>\n",
       "      <td>R</td>\n",
       "    </tr>\n",
       "  </tbody>\n",
       "</table>\n",
       "</div>"
      ],
      "text/plain": [
       "      imdb_id     revenue      budget certification\n",
       "4   tt0118694  12854953.0    150000.0            PG\n",
       "5   tt0118852         0.0         0.0             R\n",
       "6   tt0119273         0.0  15000000.0             R\n",
       "7   tt0119495         0.0         0.0             R\n",
       "11  tt0120467     14904.0    120000.0             R"
      ]
     },
     "execution_count": 7,
     "metadata": {},
     "output_type": "execute_result"
    }
   ],
   "source": [
    "year_2000_df.head()"
   ]
  },
  {
   "cell_type": "code",
   "execution_count": 8,
   "id": "dccea8a1",
   "metadata": {},
   "outputs": [
    {
     "data": {
      "text/html": [
       "<div>\n",
       "<style scoped>\n",
       "    .dataframe tbody tr th:only-of-type {\n",
       "        vertical-align: middle;\n",
       "    }\n",
       "\n",
       "    .dataframe tbody tr th {\n",
       "        vertical-align: top;\n",
       "    }\n",
       "\n",
       "    .dataframe thead th {\n",
       "        text-align: right;\n",
       "    }\n",
       "</style>\n",
       "<table border=\"1\" class=\"dataframe\">\n",
       "  <thead>\n",
       "    <tr style=\"text-align: right;\">\n",
       "      <th></th>\n",
       "      <th>imdb_id</th>\n",
       "      <th>revenue</th>\n",
       "      <th>budget</th>\n",
       "      <th>certification</th>\n",
       "    </tr>\n",
       "  </thead>\n",
       "  <tbody>\n",
       "    <tr>\n",
       "      <th>1243</th>\n",
       "      <td>tt0810831</td>\n",
       "      <td>0.0</td>\n",
       "      <td>0.0</td>\n",
       "      <td>G</td>\n",
       "    </tr>\n",
       "    <tr>\n",
       "      <th>1245</th>\n",
       "      <td>tt0832449</td>\n",
       "      <td>0.0</td>\n",
       "      <td>0.0</td>\n",
       "      <td>PG-13</td>\n",
       "    </tr>\n",
       "    <tr>\n",
       "      <th>1249</th>\n",
       "      <td>tt1073223</td>\n",
       "      <td>0.0</td>\n",
       "      <td>0.0</td>\n",
       "      <td>PG-13</td>\n",
       "    </tr>\n",
       "    <tr>\n",
       "      <th>1274</th>\n",
       "      <td>tt3041064</td>\n",
       "      <td>0.0</td>\n",
       "      <td>0.0</td>\n",
       "      <td>NR</td>\n",
       "    </tr>\n",
       "    <tr>\n",
       "      <th>1290</th>\n",
       "      <td>tt8795764</td>\n",
       "      <td>0.0</td>\n",
       "      <td>0.0</td>\n",
       "      <td>NR</td>\n",
       "    </tr>\n",
       "  </tbody>\n",
       "</table>\n",
       "</div>"
      ],
      "text/plain": [
       "        imdb_id  revenue  budget certification\n",
       "1243  tt0810831      0.0     0.0             G\n",
       "1245  tt0832449      0.0     0.0         PG-13\n",
       "1249  tt1073223      0.0     0.0         PG-13\n",
       "1274  tt3041064      0.0     0.0            NR\n",
       "1290  tt8795764      0.0     0.0            NR"
      ]
     },
     "execution_count": 8,
     "metadata": {},
     "output_type": "execute_result"
    }
   ],
   "source": [
    "year_2001_df.tail()"
   ]
  },
  {
   "cell_type": "code",
   "execution_count": 3,
   "id": "f60e0341",
   "metadata": {},
   "outputs": [
    {
     "data": {
      "text/html": [
       "<div>\n",
       "<style scoped>\n",
       "    .dataframe tbody tr th:only-of-type {\n",
       "        vertical-align: middle;\n",
       "    }\n",
       "\n",
       "    .dataframe tbody tr th {\n",
       "        vertical-align: top;\n",
       "    }\n",
       "\n",
       "    .dataframe thead th {\n",
       "        text-align: right;\n",
       "    }\n",
       "</style>\n",
       "<table border=\"1\" class=\"dataframe\">\n",
       "  <thead>\n",
       "    <tr style=\"text-align: right;\">\n",
       "      <th></th>\n",
       "      <th>imdb_id</th>\n",
       "      <th>adult</th>\n",
       "      <th>backdrop_path</th>\n",
       "      <th>belongs_to_collection</th>\n",
       "      <th>budget</th>\n",
       "      <th>genres</th>\n",
       "      <th>homepage</th>\n",
       "      <th>id</th>\n",
       "      <th>original_language</th>\n",
       "      <th>original_title</th>\n",
       "      <th>...</th>\n",
       "      <th>revenue</th>\n",
       "      <th>runtime</th>\n",
       "      <th>spoken_languages</th>\n",
       "      <th>status</th>\n",
       "      <th>tagline</th>\n",
       "      <th>title</th>\n",
       "      <th>video</th>\n",
       "      <th>vote_average</th>\n",
       "      <th>vote_count</th>\n",
       "      <th>certification</th>\n",
       "    </tr>\n",
       "  </thead>\n",
       "  <tbody>\n",
       "    <tr>\n",
       "      <th>0</th>\n",
       "      <td>0</td>\n",
       "      <td>NaN</td>\n",
       "      <td>NaN</td>\n",
       "      <td>NaN</td>\n",
       "      <td>NaN</td>\n",
       "      <td>NaN</td>\n",
       "      <td>NaN</td>\n",
       "      <td>NaN</td>\n",
       "      <td>NaN</td>\n",
       "      <td>NaN</td>\n",
       "      <td>...</td>\n",
       "      <td>NaN</td>\n",
       "      <td>NaN</td>\n",
       "      <td>NaN</td>\n",
       "      <td>NaN</td>\n",
       "      <td>NaN</td>\n",
       "      <td>NaN</td>\n",
       "      <td>NaN</td>\n",
       "      <td>NaN</td>\n",
       "      <td>NaN</td>\n",
       "      <td>NaN</td>\n",
       "    </tr>\n",
       "    <tr>\n",
       "      <th>1</th>\n",
       "      <td>tt0113026</td>\n",
       "      <td>0.0</td>\n",
       "      <td>/vMFs7nw6P0bIV1jDsQpxAieAVnH.jpg</td>\n",
       "      <td>NaN</td>\n",
       "      <td>10000000.0</td>\n",
       "      <td>[{'id': 35, 'name': 'Comedy'}, {'id': 10402, '...</td>\n",
       "      <td>NaN</td>\n",
       "      <td>62127.0</td>\n",
       "      <td>en</td>\n",
       "      <td>The Fantasticks</td>\n",
       "      <td>...</td>\n",
       "      <td>0.0</td>\n",
       "      <td>86.0</td>\n",
       "      <td>[{'english_name': 'English', 'iso_639_1': 'en'...</td>\n",
       "      <td>Released</td>\n",
       "      <td>Try to remember the first time magic happened</td>\n",
       "      <td>The Fantasticks</td>\n",
       "      <td>0.0</td>\n",
       "      <td>5.500</td>\n",
       "      <td>22.0</td>\n",
       "      <td>NaN</td>\n",
       "    </tr>\n",
       "    <tr>\n",
       "      <th>2</th>\n",
       "      <td>tt0113092</td>\n",
       "      <td>0.0</td>\n",
       "      <td>NaN</td>\n",
       "      <td>NaN</td>\n",
       "      <td>0.0</td>\n",
       "      <td>[{'id': 878, 'name': 'Science Fiction'}]</td>\n",
       "      <td>NaN</td>\n",
       "      <td>110977.0</td>\n",
       "      <td>en</td>\n",
       "      <td>For the Cause</td>\n",
       "      <td>...</td>\n",
       "      <td>0.0</td>\n",
       "      <td>100.0</td>\n",
       "      <td>[{'english_name': 'English', 'iso_639_1': 'en'...</td>\n",
       "      <td>Released</td>\n",
       "      <td>The ultimate showdown on a forbidden planet.</td>\n",
       "      <td>For the Cause</td>\n",
       "      <td>0.0</td>\n",
       "      <td>5.100</td>\n",
       "      <td>8.0</td>\n",
       "      <td>NaN</td>\n",
       "    </tr>\n",
       "    <tr>\n",
       "      <th>3</th>\n",
       "      <td>tt0116391</td>\n",
       "      <td>0.0</td>\n",
       "      <td>NaN</td>\n",
       "      <td>NaN</td>\n",
       "      <td>0.0</td>\n",
       "      <td>[{'id': 18, 'name': 'Drama'}, {'id': 28, 'name...</td>\n",
       "      <td>NaN</td>\n",
       "      <td>442869.0</td>\n",
       "      <td>hi</td>\n",
       "      <td>Gang</td>\n",
       "      <td>...</td>\n",
       "      <td>0.0</td>\n",
       "      <td>152.0</td>\n",
       "      <td>[{'english_name': 'Hindi', 'iso_639_1': 'hi', ...</td>\n",
       "      <td>Released</td>\n",
       "      <td>NaN</td>\n",
       "      <td>Gang</td>\n",
       "      <td>0.0</td>\n",
       "      <td>4.000</td>\n",
       "      <td>1.0</td>\n",
       "      <td>NaN</td>\n",
       "    </tr>\n",
       "    <tr>\n",
       "      <th>4</th>\n",
       "      <td>tt0118694</td>\n",
       "      <td>0.0</td>\n",
       "      <td>/n4GJFGzsc7NinI1VeGDXIcQjtU2.jpg</td>\n",
       "      <td>NaN</td>\n",
       "      <td>150000.0</td>\n",
       "      <td>[{'id': 18, 'name': 'Drama'}, {'id': 10749, 'n...</td>\n",
       "      <td>http://www.wkw-inthemoodforlove.com/</td>\n",
       "      <td>843.0</td>\n",
       "      <td>cn</td>\n",
       "      <td>花樣年華</td>\n",
       "      <td>...</td>\n",
       "      <td>12854953.0</td>\n",
       "      <td>99.0</td>\n",
       "      <td>[{'english_name': 'Cantonese', 'iso_639_1': 'c...</td>\n",
       "      <td>Released</td>\n",
       "      <td>Feel the heat, keep the feeling burning, let t...</td>\n",
       "      <td>In the Mood for Love</td>\n",
       "      <td>0.0</td>\n",
       "      <td>8.104</td>\n",
       "      <td>2024.0</td>\n",
       "      <td>PG</td>\n",
       "    </tr>\n",
       "  </tbody>\n",
       "</table>\n",
       "<p>5 rows × 26 columns</p>\n",
       "</div>"
      ],
      "text/plain": [
       "     imdb_id  adult                     backdrop_path belongs_to_collection  \\\n",
       "0          0    NaN                               NaN                   NaN   \n",
       "1  tt0113026    0.0  /vMFs7nw6P0bIV1jDsQpxAieAVnH.jpg                   NaN   \n",
       "2  tt0113092    0.0                               NaN                   NaN   \n",
       "3  tt0116391    0.0                               NaN                   NaN   \n",
       "4  tt0118694    0.0  /n4GJFGzsc7NinI1VeGDXIcQjtU2.jpg                   NaN   \n",
       "\n",
       "       budget                                             genres  \\\n",
       "0         NaN                                                NaN   \n",
       "1  10000000.0  [{'id': 35, 'name': 'Comedy'}, {'id': 10402, '...   \n",
       "2         0.0           [{'id': 878, 'name': 'Science Fiction'}]   \n",
       "3         0.0  [{'id': 18, 'name': 'Drama'}, {'id': 28, 'name...   \n",
       "4    150000.0  [{'id': 18, 'name': 'Drama'}, {'id': 10749, 'n...   \n",
       "\n",
       "                               homepage        id original_language  \\\n",
       "0                                   NaN       NaN               NaN   \n",
       "1                                   NaN   62127.0                en   \n",
       "2                                   NaN  110977.0                en   \n",
       "3                                   NaN  442869.0                hi   \n",
       "4  http://www.wkw-inthemoodforlove.com/     843.0                cn   \n",
       "\n",
       "    original_title  ...     revenue  runtime  \\\n",
       "0              NaN  ...         NaN      NaN   \n",
       "1  The Fantasticks  ...         0.0     86.0   \n",
       "2    For the Cause  ...         0.0    100.0   \n",
       "3             Gang  ...         0.0    152.0   \n",
       "4             花樣年華  ...  12854953.0     99.0   \n",
       "\n",
       "                                    spoken_languages    status  \\\n",
       "0                                                NaN       NaN   \n",
       "1  [{'english_name': 'English', 'iso_639_1': 'en'...  Released   \n",
       "2  [{'english_name': 'English', 'iso_639_1': 'en'...  Released   \n",
       "3  [{'english_name': 'Hindi', 'iso_639_1': 'hi', ...  Released   \n",
       "4  [{'english_name': 'Cantonese', 'iso_639_1': 'c...  Released   \n",
       "\n",
       "                                             tagline                 title  \\\n",
       "0                                                NaN                   NaN   \n",
       "1      Try to remember the first time magic happened       The Fantasticks   \n",
       "2       The ultimate showdown on a forbidden planet.         For the Cause   \n",
       "3                                                NaN                  Gang   \n",
       "4  Feel the heat, keep the feeling burning, let t...  In the Mood for Love   \n",
       "\n",
       "   video  vote_average vote_count certification  \n",
       "0    NaN           NaN        NaN           NaN  \n",
       "1    0.0         5.500       22.0           NaN  \n",
       "2    0.0         5.100        8.0           NaN  \n",
       "3    0.0         4.000        1.0           NaN  \n",
       "4    0.0         8.104     2024.0            PG  \n",
       "\n",
       "[5 rows x 26 columns]"
      ]
     },
     "metadata": {},
     "output_type": "display_data"
    },
    {
     "data": {
      "text/html": [
       "<div>\n",
       "<style scoped>\n",
       "    .dataframe tbody tr th:only-of-type {\n",
       "        vertical-align: middle;\n",
       "    }\n",
       "\n",
       "    .dataframe tbody tr th {\n",
       "        vertical-align: top;\n",
       "    }\n",
       "\n",
       "    .dataframe thead th {\n",
       "        text-align: right;\n",
       "    }\n",
       "</style>\n",
       "<table border=\"1\" class=\"dataframe\">\n",
       "  <thead>\n",
       "    <tr style=\"text-align: right;\">\n",
       "      <th></th>\n",
       "      <th>imdb_id</th>\n",
       "      <th>adult</th>\n",
       "      <th>backdrop_path</th>\n",
       "      <th>belongs_to_collection</th>\n",
       "      <th>budget</th>\n",
       "      <th>genres</th>\n",
       "      <th>homepage</th>\n",
       "      <th>id</th>\n",
       "      <th>original_language</th>\n",
       "      <th>original_title</th>\n",
       "      <th>...</th>\n",
       "      <th>revenue</th>\n",
       "      <th>runtime</th>\n",
       "      <th>spoken_languages</th>\n",
       "      <th>status</th>\n",
       "      <th>tagline</th>\n",
       "      <th>title</th>\n",
       "      <th>video</th>\n",
       "      <th>vote_average</th>\n",
       "      <th>vote_count</th>\n",
       "      <th>certification</th>\n",
       "    </tr>\n",
       "  </thead>\n",
       "  <tbody>\n",
       "    <tr>\n",
       "      <th>1288</th>\n",
       "      <td>tt7797790</td>\n",
       "      <td>0.0</td>\n",
       "      <td>NaN</td>\n",
       "      <td>NaN</td>\n",
       "      <td>0.0</td>\n",
       "      <td>[{'id': 27, 'name': 'Horror'}]</td>\n",
       "      <td>NaN</td>\n",
       "      <td>956219.0</td>\n",
       "      <td>en</td>\n",
       "      <td>Edmund Kemper Part 3: La mort sévit</td>\n",
       "      <td>...</td>\n",
       "      <td>0.0</td>\n",
       "      <td>72.0</td>\n",
       "      <td>[{'english_name': 'French', 'iso_639_1': 'fr',...</td>\n",
       "      <td>Released</td>\n",
       "      <td>NaN</td>\n",
       "      <td>Edmund Kemper Part 3: La mort sévit</td>\n",
       "      <td>0.0</td>\n",
       "      <td>0.0</td>\n",
       "      <td>0.0</td>\n",
       "      <td>NaN</td>\n",
       "    </tr>\n",
       "    <tr>\n",
       "      <th>1289</th>\n",
       "      <td>tt8665056</td>\n",
       "      <td>0.0</td>\n",
       "      <td>NaN</td>\n",
       "      <td>NaN</td>\n",
       "      <td>0.0</td>\n",
       "      <td>[{'id': 37, 'name': 'Western'}]</td>\n",
       "      <td>http://skeletoncreekproductions.com/p-movie-br...</td>\n",
       "      <td>885436.0</td>\n",
       "      <td>en</td>\n",
       "      <td>Guns Along The Bravo</td>\n",
       "      <td>...</td>\n",
       "      <td>0.0</td>\n",
       "      <td>85.0</td>\n",
       "      <td>[]</td>\n",
       "      <td>Released</td>\n",
       "      <td>Evil came to the Southwest until three blazing...</td>\n",
       "      <td>Guns Along The Bravo</td>\n",
       "      <td>0.0</td>\n",
       "      <td>0.0</td>\n",
       "      <td>0.0</td>\n",
       "      <td>NaN</td>\n",
       "    </tr>\n",
       "    <tr>\n",
       "      <th>1290</th>\n",
       "      <td>tt8795764</td>\n",
       "      <td>0.0</td>\n",
       "      <td>NaN</td>\n",
       "      <td>NaN</td>\n",
       "      <td>0.0</td>\n",
       "      <td>[{'id': 27, 'name': 'Horror'}]</td>\n",
       "      <td>https://www.utahwolf.com/films/coming-soon-new...</td>\n",
       "      <td>871624.0</td>\n",
       "      <td>en</td>\n",
       "      <td>New Breed</td>\n",
       "      <td>...</td>\n",
       "      <td>0.0</td>\n",
       "      <td>57.0</td>\n",
       "      <td>[{'english_name': 'English', 'iso_639_1': 'en'...</td>\n",
       "      <td>Released</td>\n",
       "      <td>NaN</td>\n",
       "      <td>New Breed</td>\n",
       "      <td>0.0</td>\n",
       "      <td>0.0</td>\n",
       "      <td>0.0</td>\n",
       "      <td>NR</td>\n",
       "    </tr>\n",
       "    <tr>\n",
       "      <th>1291</th>\n",
       "      <td>tt9071078</td>\n",
       "      <td>0.0</td>\n",
       "      <td>NaN</td>\n",
       "      <td>NaN</td>\n",
       "      <td>0.0</td>\n",
       "      <td>[{'id': 28, 'name': 'Action'}]</td>\n",
       "      <td>http://www.hkcinemagic.com/en/movie.asp?id=6627</td>\n",
       "      <td>201706.0</td>\n",
       "      <td>cn</td>\n",
       "      <td>致命密函</td>\n",
       "      <td>...</td>\n",
       "      <td>0.0</td>\n",
       "      <td>90.0</td>\n",
       "      <td>[{'english_name': 'Cantonese', 'iso_639_1': 'c...</td>\n",
       "      <td>Released</td>\n",
       "      <td>NaN</td>\n",
       "      <td>Chinese Heroes</td>\n",
       "      <td>0.0</td>\n",
       "      <td>3.0</td>\n",
       "      <td>2.0</td>\n",
       "      <td>NaN</td>\n",
       "    </tr>\n",
       "    <tr>\n",
       "      <th>1292</th>\n",
       "      <td>tt0308977</td>\n",
       "      <td>0.0</td>\n",
       "      <td>NaN</td>\n",
       "      <td>NaN</td>\n",
       "      <td>0.0</td>\n",
       "      <td>[{'id': 18, 'name': 'Drama'}]</td>\n",
       "      <td>NaN</td>\n",
       "      <td>10273.0</td>\n",
       "      <td>fr</td>\n",
       "      <td>Thelma</td>\n",
       "      <td>...</td>\n",
       "      <td>0.0</td>\n",
       "      <td>95.0</td>\n",
       "      <td>[{'english_name': 'French', 'iso_639_1': 'fr',...</td>\n",
       "      <td>Released</td>\n",
       "      <td>NaN</td>\n",
       "      <td>Thelma</td>\n",
       "      <td>0.0</td>\n",
       "      <td>4.5</td>\n",
       "      <td>3.0</td>\n",
       "      <td>NaN</td>\n",
       "    </tr>\n",
       "  </tbody>\n",
       "</table>\n",
       "<p>5 rows × 26 columns</p>\n",
       "</div>"
      ],
      "text/plain": [
       "        imdb_id  adult backdrop_path belongs_to_collection  budget  \\\n",
       "1288  tt7797790    0.0           NaN                   NaN     0.0   \n",
       "1289  tt8665056    0.0           NaN                   NaN     0.0   \n",
       "1290  tt8795764    0.0           NaN                   NaN     0.0   \n",
       "1291  tt9071078    0.0           NaN                   NaN     0.0   \n",
       "1292  tt0308977    0.0           NaN                   NaN     0.0   \n",
       "\n",
       "                               genres  \\\n",
       "1288   [{'id': 27, 'name': 'Horror'}]   \n",
       "1289  [{'id': 37, 'name': 'Western'}]   \n",
       "1290   [{'id': 27, 'name': 'Horror'}]   \n",
       "1291   [{'id': 28, 'name': 'Action'}]   \n",
       "1292    [{'id': 18, 'name': 'Drama'}]   \n",
       "\n",
       "                                               homepage        id  \\\n",
       "1288                                                NaN  956219.0   \n",
       "1289  http://skeletoncreekproductions.com/p-movie-br...  885436.0   \n",
       "1290  https://www.utahwolf.com/films/coming-soon-new...  871624.0   \n",
       "1291    http://www.hkcinemagic.com/en/movie.asp?id=6627  201706.0   \n",
       "1292                                                NaN   10273.0   \n",
       "\n",
       "     original_language                       original_title  ... revenue  \\\n",
       "1288                en  Edmund Kemper Part 3: La mort sévit  ...     0.0   \n",
       "1289                en                 Guns Along The Bravo  ...     0.0   \n",
       "1290                en                            New Breed  ...     0.0   \n",
       "1291                cn                                 致命密函  ...     0.0   \n",
       "1292                fr                               Thelma  ...     0.0   \n",
       "\n",
       "      runtime                                   spoken_languages    status  \\\n",
       "1288     72.0  [{'english_name': 'French', 'iso_639_1': 'fr',...  Released   \n",
       "1289     85.0                                                 []  Released   \n",
       "1290     57.0  [{'english_name': 'English', 'iso_639_1': 'en'...  Released   \n",
       "1291     90.0  [{'english_name': 'Cantonese', 'iso_639_1': 'c...  Released   \n",
       "1292     95.0  [{'english_name': 'French', 'iso_639_1': 'fr',...  Released   \n",
       "\n",
       "                                                tagline  \\\n",
       "1288                                                NaN   \n",
       "1289  Evil came to the Southwest until three blazing...   \n",
       "1290                                                NaN   \n",
       "1291                                                NaN   \n",
       "1292                                                NaN   \n",
       "\n",
       "                                    title  video  vote_average vote_count  \\\n",
       "1288  Edmund Kemper Part 3: La mort sévit    0.0           0.0        0.0   \n",
       "1289                 Guns Along The Bravo    0.0           0.0        0.0   \n",
       "1290                            New Breed    0.0           0.0        0.0   \n",
       "1291                       Chinese Heroes    0.0           3.0        2.0   \n",
       "1292                               Thelma    0.0           4.5        3.0   \n",
       "\n",
       "     certification  \n",
       "1288           NaN  \n",
       "1289           NaN  \n",
       "1290            NR  \n",
       "1291           NaN  \n",
       "1292           NaN  \n",
       "\n",
       "[5 rows x 26 columns]"
      ]
     },
     "metadata": {},
     "output_type": "display_data"
    }
   ],
   "source": [
    "rbr_df = pd.concat([year_2000_df, year_2001_df], axis=0, join=\"inner\")\n",
    "display(rbr_df.head(), rbr_df.tail())"
   ]
  },
  {
   "cell_type": "markdown",
   "id": "1622a567",
   "metadata": {},
   "source": [
    "# Data Exploration"
   ]
  },
  {
   "cell_type": "markdown",
   "id": "6f936b9e",
   "metadata": {},
   "source": [
    "> How many movies had at least some valid financial information (values > 0 for budget OR revenue)?"
   ]
  },
  {
   "cell_type": "code",
   "execution_count": 4,
   "id": "1feac3c4",
   "metadata": {},
   "outputs": [
    {
     "data": {
      "image/png": "[encoded data removed]",
      "text/plain": [
       "<Figure size 640x480 with 1 Axes>"
      ]
     },
     "metadata": {},
     "output_type": "display_data"
    }
   ],
   "source": [
    "# Making a filter for budget OR revenue > 0\n",
    "bud_filter = rbr_df['revenue'] > 0\n",
    "rev_filter = rbr_df['budget'] > 0\n",
    "# Create dataframe with budget OR revenue > 0\n",
    "valid_fin_df = rbr_df.loc[bud_filter & rev_filter, :]\n",
    "vaild_percent = len(valid_fin_df)/len(rbr_df)\n",
    "nonvaild_percent = (len(rbr_df)-len(valid_fin_df))/len(rbr_df)\n",
    "# Making the graph \n",
    "colors = sns.color_palette('bright')[0:2]\n",
    "plt.pie([vaild_percent, nonvaild_percent], labels = ['vaild','nonvaild'], colors = colors, autopct='%.0f%%')\n",
    "plt.title('Percentage of Valid financial information')\n",
    "plt.show()"
   ]
  },
  {
   "cell_type": "markdown",
   "id": "90218d18",
   "metadata": {},
   "source": [
    "> 14 percent of movies have a vaild financial information"
   ]
  },
  {
   "cell_type": "markdown",
   "id": "65cb75ca",
   "metadata": {},
   "source": [
    ">How many movies are there in each of the certification categories (G/PG/PG-13/R)?"
   ]
  },
  {
   "cell_type": "code",
   "execution_count": 5,
   "id": "faedb513",
   "metadata": {},
   "outputs": [
    {
     "data": {
      "image/png": "[encoded data removed]",
      "text/plain": [
       "<Figure size 640x480 with 1 Axes>"
      ]
     },
     "metadata": {},
     "output_type": "display_data"
    }
   ],
   "source": [
    "ax =sns.countplot(x='certification', data=rbr_df.loc[bud_filter & rev_filter, :])\n",
    "plt.title('Number of movies per certification categories  ')\n",
    "ax.bar_label(ax.containers[0]);"
   ]
  },
  {
   "cell_type": "markdown",
   "id": "be880b02",
   "metadata": {},
   "source": [
    "> R rated movies have the highest count with 140</br>\n",
    "NC-17 is the lowest."
   ]
  },
  {
   "cell_type": "markdown",
   "id": "a37fa5d0",
   "metadata": {},
   "source": [
    "> What is the average revenue per certification category?"
   ]
  },
  {
   "cell_type": "code",
   "execution_count": 6,
   "id": "6f7d60e7",
   "metadata": {},
   "outputs": [
    {
     "data": {
      "image/png": "[encoded data removed]",
      "text/plain": [
       "<Figure size 640x480 with 1 Axes>"
      ]
     },
     "metadata": {},
     "output_type": "display_data"
    }
   ],
   "source": [
    "from matplotlib.ticker import FuncFormatter\n",
    "#Convert the tick\n",
    "def thousands(x, pos):\n",
    "    return '%1.1fm' % (x * 1e-7)\n",
    "\n",
    "formatter = FuncFormatter(thousands)\n",
    "fig, ax = plt.subplots()\n",
    "avg_rev = rbr_df.loc[bud_filter & rev_filter, :].groupby('certification')['revenue'].mean()\n",
    "plt.title('average of revenue per certification categories')\n",
    "sns.barplot(x= avg_rev.index, y=avg_rev).yaxis.set_major_formatter(formatter)\n",
    "for p,date in zip(ax.patches, avg_rev.apply(lambda x: '%1.1fm' % (x * 1e-7))):\n",
    "    ax.annotate(date, xy=(p.get_x()+p.get_width()/2, p.get_height()),\n",
    "                ha='center', va='bottom')\n",
    "\n",
    "\n"
   ]
  },
  {
   "cell_type": "markdown",
   "id": "4d75f26d",
   "metadata": {},
   "source": [
    "> What is the average budget per certification category?"
   ]
  },
  {
   "cell_type": "code",
   "execution_count": 13,
   "id": "179cd4bb",
   "metadata": {
    "scrolled": true
   },
   "outputs": [
    {
     "data": {
      "image/png": "[encoded data removed]",
      "text/plain": [
       "<Figure size 640x480 with 1 Axes>"
      ]
     },
     "metadata": {},
     "output_type": "display_data"
    }
   ],
   "source": [
    "fig, ax = plt.subplots()\n",
    "avg_rev = rbr_df.loc[bud_filter & rev_filter, :].groupby('certification')['budget'].mean()\n",
    "sns.barplot(x= avg_rev.index, y=avg_rev).yaxis.set_major_formatter(formatter)\n",
    "plt.title('average of budget per certification categories')\n",
    "for p,date in zip(ax.patches, avg_rev.apply(lambda x: '%1.1fm' % (x * 1e-7))):\n",
    "    ax.annotate(date, xy=(p.get_x()+p.get_width()/2, p.get_height()),\n",
    "                ha='center', va='bottom')\n"
   ]
  },
  {
   "cell_type": "code",
   "execution_count": null,
   "id": "c977c9a8",
   "metadata": {},
   "outputs": [],
   "source": []
  }
 ],
 "metadata": {
  "kernelspec": {
   "display_name": "Python (dojo-env)",
   "language": "python",
   "name": "dojo-env"
  },
  "language_info": {
   "codemirror_mode": {
    "name": "ipython",
    "version": 3
   },
   "file_extension": ".py",
   "mimetype": "text/x-python",
   "name": "python",
   "nbconvert_exporter": "python",
   "pygments_lexer": "ipython3",
   "version": "3.8.13"
  },
  "toc": {
   "base_numbering": 1,
   "nav_menu": {},
   "number_sections": false,
   "sideBar": true,
   "skip_h1_title": false,
   "title_cell": "Table of Contents",
   "title_sidebar": "Contents",
   "toc_cell": false,
   "toc_position": {
    "height": "calc(100% - 180px)",
    "left": "10px",
    "top": "150px",
    "width": "303.837px"
   },
   "toc_section_display": true,
   "toc_window_display": true
  }
 },
 "nbformat": 4,
 "nbformat_minor": 5
}
